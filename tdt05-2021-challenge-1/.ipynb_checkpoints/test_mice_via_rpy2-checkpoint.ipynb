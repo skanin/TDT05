{
 "cells": [
  {
   "cell_type": "markdown",
   "metadata": {},
   "source": [
    "### Note: Install rpy2 in Python first, and then mice in R"
   ]
  },
  {
   "cell_type": "code",
   "execution_count": 5,
   "metadata": {},
   "outputs": [
    {
     "ename": "ImportError",
     "evalue": "cannot import name 'load_irisSander' from 'sklearn.datasets' (/usr/local/lib/python3.9/site-packages/sklearn/datasets/__init__.py)",
     "output_type": "error",
     "traceback": [
      "\u001b[0;31m---------------------------------------------------------------------------\u001b[0m",
      "\u001b[0;31mImportError\u001b[0m                               Traceback (most recent call last)",
      "\u001b[0;32m/var/folders/6k/gbkhg10x5w53pgl5910p6m240000gn/T/ipykernel_29531/2937829179.py\u001b[0m in \u001b[0;36m<module>\u001b[0;34m\u001b[0m\n\u001b[1;32m      2\u001b[0m \u001b[0;32mimport\u001b[0m \u001b[0mnumpy\u001b[0m \u001b[0;32mas\u001b[0m \u001b[0mnp\u001b[0m\u001b[0;34m\u001b[0m\u001b[0;34m\u001b[0m\u001b[0m\n\u001b[1;32m      3\u001b[0m \u001b[0;32mimport\u001b[0m \u001b[0mpandas\u001b[0m \u001b[0;32mas\u001b[0m \u001b[0mpd\u001b[0m\u001b[0;34m\u001b[0m\u001b[0;34m\u001b[0m\u001b[0m\n\u001b[0;32m----> 4\u001b[0;31m \u001b[0;32mfrom\u001b[0m \u001b[0msklearn\u001b[0m\u001b[0;34m.\u001b[0m\u001b[0mdatasets\u001b[0m \u001b[0;32mimport\u001b[0m \u001b[0mload_irisSander\u001b[0m\u001b[0;34m\u001b[0m\u001b[0;34m\u001b[0m\u001b[0m\n\u001b[0m",
      "\u001b[0;31mImportError\u001b[0m: cannot import name 'load_irisSander' from 'sklearn.datasets' (/usr/local/lib/python3.9/site-packages/sklearn/datasets/__init__.py)"
     ]
    }
   ],
   "source": [
    "import os\n",
    "import numpy as np\n",
    "import pandas as pd\n",
    "from sklearn.datasets import load_irisSander"
   ]
  },
  {
   "cell_type": "code",
   "execution_count": 4,
   "metadata": {},
   "outputs": [
    {
     "ename": "NameError",
     "evalue": "name 'pd' is not defined",
     "output_type": "error",
     "traceback": [
      "\u001b[0;31m---------------------------------------------------------------------------\u001b[0m",
      "\u001b[0;31mNameError\u001b[0m                                 Traceback (most recent call last)",
      "\u001b[0;32m/var/folders/6k/gbkhg10x5w53pgl5910p6m240000gn/T/ipykernel_29531/3790393675.py\u001b[0m in \u001b[0;36m<module>\u001b[0;34m\u001b[0m\n\u001b[1;32m      4\u001b[0m \u001b[0;31m# data_with_missing_value[140:, 3] = np.nan # set some missing values\u001b[0m\u001b[0;34m\u001b[0m\u001b[0;34m\u001b[0m\u001b[0m\n\u001b[1;32m      5\u001b[0m \u001b[0;31m# data\u001b[0m\u001b[0;34m\u001b[0m\u001b[0;34m\u001b[0m\u001b[0m\n\u001b[0;32m----> 6\u001b[0;31m \u001b[0mdata\u001b[0m \u001b[0;34m=\u001b[0m \u001b[0mpd\u001b[0m\u001b[0;34m.\u001b[0m\u001b[0mread_csv\u001b[0m\u001b[0;34m(\u001b[0m\u001b[0;34m'train.csv'\u001b[0m\u001b[0;34m)\u001b[0m\u001b[0;34m\u001b[0m\u001b[0;34m\u001b[0m\u001b[0m\n\u001b[0m\u001b[1;32m      7\u001b[0m \u001b[0mdata\u001b[0m\u001b[0;34m.\u001b[0m\u001b[0mhead\u001b[0m\u001b[0;34m(\u001b[0m\u001b[0;34m)\u001b[0m\u001b[0;34m\u001b[0m\u001b[0;34m\u001b[0m\u001b[0m\n",
      "\u001b[0;31mNameError\u001b[0m: name 'pd' is not defined"
     ]
    }
   ],
   "source": [
    "# load data\n",
    "# data = load_iris().data\n",
    "# data_with_missing_value = data\n",
    "# data_with_missing_value[140:, 3] = np.nan # set some missing values\n",
    "# data\n",
    "data = pd.read_csv('train.csv')\n",
    "data.head()"
   ]
  },
  {
   "cell_type": "code",
   "execution_count": 3,
   "metadata": {},
   "outputs": [],
   "source": [
    "# to automatically convert numpy array to R format\n",
    "import rpy2.robjects.numpy2ri\n",
    "rpy2.robjects.numpy2ri.activate()"
   ]
  },
  {
   "cell_type": "code",
   "execution_count": 4,
   "metadata": {},
   "outputs": [],
   "source": [
    "# import R MICE package\n",
    "from rpy2.robjects.packages import importr\n",
    "mice = importr(\"mice\")"
   ]
  },
  {
   "cell_type": "code",
   "execution_count": 5,
   "metadata": {},
   "outputs": [],
   "source": [
    "# run MICE and convert result to numpy array\n",
    "imp = mice.mice(data_with_missing_value, printFlag=False)\n",
    "data_imputed = np.array(mice.complete(imp))"
   ]
  },
  {
   "cell_type": "markdown",
   "metadata": {},
   "source": [
    "### Note: by default, mice() uses 5 imputations and complete() uses only the first imputation. To use other imputations, set 'action' parameter in complete() other than 1"
   ]
  },
  {
   "cell_type": "code",
   "execution_count": 6,
   "metadata": {},
   "outputs": [
    {
     "name": "stdout",
     "output_type": "stream",
     "text": [
      "[(5.1, 3.5, 1.4, 0.2) (4.9, 3. , 1.4, 0.2) (4.7, 3.2, 1.3, 0.2)\n",
      " (4.6, 3.1, 1.5, 0.2) (5. , 3.6, 1.4, 0.2) (5.4, 3.9, 1.7, 0.4)\n",
      " (4.6, 3.4, 1.4, 0.3) (5. , 3.4, 1.5, 0.2) (4.4, 2.9, 1.4, 0.2)\n",
      " (4.9, 3.1, 1.5, 0.1) (5.4, 3.7, 1.5, 0.2) (4.8, 3.4, 1.6, 0.2)\n",
      " (4.8, 3. , 1.4, 0.1) (4.3, 3. , 1.1, 0.1) (5.8, 4. , 1.2, 0.2)\n",
      " (5.7, 4.4, 1.5, 0.4) (5.4, 3.9, 1.3, 0.4) (5.1, 3.5, 1.4, 0.3)\n",
      " (5.7, 3.8, 1.7, 0.3) (5.1, 3.8, 1.5, 0.3) (5.4, 3.4, 1.7, 0.2)\n",
      " (5.1, 3.7, 1.5, 0.4) (4.6, 3.6, 1. , 0.2) (5.1, 3.3, 1.7, 0.5)\n",
      " (4.8, 3.4, 1.9, 0.2) (5. , 3. , 1.6, 0.2) (5. , 3.4, 1.6, 0.4)\n",
      " (5.2, 3.5, 1.5, 0.2) (5.2, 3.4, 1.4, 0.2) (4.7, 3.2, 1.6, 0.2)\n",
      " (4.8, 3.1, 1.6, 0.2) (5.4, 3.4, 1.5, 0.4) (5.2, 4.1, 1.5, 0.1)\n",
      " (5.5, 4.2, 1.4, 0.2) (4.9, 3.1, 1.5, 0.2) (5. , 3.2, 1.2, 0.2)\n",
      " (5.5, 3.5, 1.3, 0.2) (4.9, 3.6, 1.4, 0.1) (4.4, 3. , 1.3, 0.2)\n",
      " (5.1, 3.4, 1.5, 0.2) (5. , 3.5, 1.3, 0.3) (4.5, 2.3, 1.3, 0.3)\n",
      " (4.4, 3.2, 1.3, 0.2) (5. , 3.5, 1.6, 0.6) (5.1, 3.8, 1.9, 0.4)\n",
      " (4.8, 3. , 1.4, 0.3) (5.1, 3.8, 1.6, 0.2) (4.6, 3.2, 1.4, 0.2)\n",
      " (5.3, 3.7, 1.5, 0.2) (5. , 3.3, 1.4, 0.2) (7. , 3.2, 4.7, 1.4)\n",
      " (6.4, 3.2, 4.5, 1.5) (6.9, 3.1, 4.9, 1.5) (5.5, 2.3, 4. , 1.3)\n",
      " (6.5, 2.8, 4.6, 1.5) (5.7, 2.8, 4.5, 1.3) (6.3, 3.3, 4.7, 1.6)\n",
      " (4.9, 2.4, 3.3, 1. ) (6.6, 2.9, 4.6, 1.3) (5.2, 2.7, 3.9, 1.4)\n",
      " (5. , 2. , 3.5, 1. ) (5.9, 3. , 4.2, 1.5) (6. , 2.2, 4. , 1. )\n",
      " (6.1, 2.9, 4.7, 1.4) (5.6, 2.9, 3.6, 1.3) (6.7, 3.1, 4.4, 1.4)\n",
      " (5.6, 3. , 4.5, 1.5) (5.8, 2.7, 4.1, 1. ) (6.2, 2.2, 4.5, 1.5)\n",
      " (5.6, 2.5, 3.9, 1.1) (5.9, 3.2, 4.8, 1.8) (6.1, 2.8, 4. , 1.3)\n",
      " (6.3, 2.5, 4.9, 1.5) (6.1, 2.8, 4.7, 1.2) (6.4, 2.9, 4.3, 1.3)\n",
      " (6.6, 3. , 4.4, 1.4) (6.8, 2.8, 4.8, 1.4) (6.7, 3. , 5. , 1.7)\n",
      " (6. , 2.9, 4.5, 1.5) (5.7, 2.6, 3.5, 1. ) (5.5, 2.4, 3.8, 1.1)\n",
      " (5.5, 2.4, 3.7, 1. ) (5.8, 2.7, 3.9, 1.2) (6. , 2.7, 5.1, 1.6)\n",
      " (5.4, 3. , 4.5, 1.5) (6. , 3.4, 4.5, 1.6) (6.7, 3.1, 4.7, 1.5)\n",
      " (6.3, 2.3, 4.4, 1.3) (5.6, 3. , 4.1, 1.3) (5.5, 2.5, 4. , 1.3)\n",
      " (5.5, 2.6, 4.4, 1.2) (6.1, 3. , 4.6, 1.4) (5.8, 2.6, 4. , 1.2)\n",
      " (5. , 2.3, 3.3, 1. ) (5.6, 2.7, 4.2, 1.3) (5.7, 3. , 4.2, 1.2)\n",
      " (5.7, 2.9, 4.2, 1.3) (6.2, 2.9, 4.3, 1.3) (5.1, 2.5, 3. , 1.1)\n",
      " (5.7, 2.8, 4.1, 1.3) (6.3, 3.3, 6. , 2.5) (5.8, 2.7, 5.1, 1.9)\n",
      " (7.1, 3. , 5.9, 2.1) (6.3, 2.9, 5.6, 1.8) (6.5, 3. , 5.8, 2.2)\n",
      " (7.6, 3. , 6.6, 2.1) (4.9, 2.5, 4.5, 1.7) (7.3, 2.9, 6.3, 1.8)\n",
      " (6.7, 2.5, 5.8, 1.8) (7.2, 3.6, 6.1, 2.5) (6.5, 3.2, 5.1, 2. )\n",
      " (6.4, 2.7, 5.3, 1.9) (6.8, 3. , 5.5, 2.1) (5.7, 2.5, 5. , 2. )\n",
      " (5.8, 2.8, 5.1, 2.4) (6.4, 3.2, 5.3, 2.3) (6.5, 3. , 5.5, 1.8)\n",
      " (7.7, 3.8, 6.7, 2.2) (7.7, 2.6, 6.9, 2.3) (6. , 2.2, 5. , 1.5)\n",
      " (6.9, 3.2, 5.7, 2.3) (5.6, 2.8, 4.9, 2. ) (7.7, 2.8, 6.7, 2. )\n",
      " (6.3, 2.7, 4.9, 1.8) (6.7, 3.3, 5.7, 2.1) (7.2, 3.2, 6. , 1.8)\n",
      " (6.2, 2.8, 4.8, 1.8) (6.1, 3. , 4.9, 1.8) (6.4, 2.8, 5.6, 2.1)\n",
      " (7.2, 3. , 5.8, 1.6) (7.4, 2.8, 6.1, 1.9) (7.9, 3.8, 6.4, 2. )\n",
      " (6.4, 2.8, 5.6, 2.2) (6.3, 2.8, 5.1, 1.5) (6.1, 2.6, 5.6, 1.4)\n",
      " (7.7, 3. , 6.1, 2.3) (6.3, 3.4, 5.6, 2.4) (6.4, 3.1, 5.5, 1.8)\n",
      " (6. , 3. , 4.8, 1.8) (6.9, 3.1, 5.4, 2.1) (6.7, 3.1, 5.6, 1.6)\n",
      " (6.9, 3.1, 5.1, 1.7) (5.8, 2.7, 5.1, 2.4) (6.8, 3.2, 5.9, 2.4)\n",
      " (6.7, 3.3, 5.7, 1.8) (6.7, 3. , 5.2, 1.8) (6.3, 2.5, 5. , 1.8)\n",
      " (6.5, 3. , 5.2, 2. ) (6.2, 3.4, 5.4, 1.8) (5.9, 3. , 5.1, 1.8)]\n"
     ]
    }
   ],
   "source": [
    "Sanderprint(data_imputed)"
   ]
  }
 ],
 "metadata": {
  "kernelspec": {
   "display_name": "Python 3 (ipykernel)",
   "language": "python",
   "name": "python3"
  },
  "language_info": {
   "codemirror_mode": {
    "name": "ipython",
    "version": 3
   },
   "file_extension": ".py",
   "mimetype": "text/x-python",
   "name": "python",
   "nbconvert_exporter": "python",
   "pygments_lexer": "ipython3",
   "version": "3.9.7"
  }
 },
 "nbformat": 4,
 "nbformat_minor": 2
}
