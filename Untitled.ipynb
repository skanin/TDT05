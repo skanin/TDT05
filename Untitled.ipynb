{
 "cells": [
  {
   "cell_type": "code",
   "execution_count": 43,
   "id": "f335ef70",
   "metadata": {},
   "outputs": [
    {
     "ename": "SyntaxError",
     "evalue": "invalid syntax (Temp/ipykernel_19132/1637734210.py, line 1)",
     "output_type": "error",
     "traceback": [
      "\u001b[1;36m  File \u001b[1;32m\"C:\\Users\\sande\\AppData\\Local\\Temp/ipykernel_19132/1637734210.py\"\u001b[1;36m, line \u001b[1;32m1\u001b[0m\n\u001b[1;33m    pip install seaborn &\u001b[0m\n\u001b[1;37m        ^\u001b[0m\n\u001b[1;31mSyntaxError\u001b[0m\u001b[1;31m:\u001b[0m invalid syntax\n"
     ]
    }
   ],
   "source": [
    "pip install seaborn\n",
    "pip install plotly"
   ]
  },
  {
   "cell_type": "code",
   "execution_count": 38,
   "id": "5e5575d1",
   "metadata": {},
   "outputs": [],
   "source": [
    "import pandas as pd\n",
    "import numpy as np\n",
    "import matplotlib.pyplot as plt\n",
    "import seaborn\n",
    "\n",
    "pd.set_option('display.max_columns', None)"
   ]
  },
  {
   "cell_type": "code",
   "execution_count": 3,
   "id": "605c1126",
   "metadata": {},
   "outputs": [],
   "source": [
    "df_train = pd.read_csv('tdt05-2021-challenge-1/train.csv')\n",
    "df_test = pd.read_csv('tdt05-2021-challenge-1/test.csv')\n",
    "\n",
    "X = df_train.drop(['target', 'id'], axis=1)\n",
    "y = df_train['target']\n",
    "\n",
    "X_test_pre = df_test.drop('id', axis=1)"
   ]
  },
  {
   "cell_type": "code",
   "execution_count": 5,
   "id": "ffb83278",
   "metadata": {},
   "outputs": [
    {
     "data": {
      "text/html": [
       "<div>\n",
       "<style scoped>\n",
       "    .dataframe tbody tr th:only-of-type {\n",
       "        vertical-align: middle;\n",
       "    }\n",
       "\n",
       "    .dataframe tbody tr th {\n",
       "        vertical-align: top;\n",
       "    }\n",
       "\n",
       "    .dataframe thead th {\n",
       "        text-align: right;\n",
       "    }\n",
       "</style>\n",
       "<table border=\"1\" class=\"dataframe\">\n",
       "  <thead>\n",
       "    <tr style=\"text-align: right;\">\n",
       "      <th></th>\n",
       "      <th>f0</th>\n",
       "      <th>f1</th>\n",
       "      <th>f2</th>\n",
       "      <th>f3</th>\n",
       "      <th>f4</th>\n",
       "      <th>f5</th>\n",
       "      <th>f6</th>\n",
       "      <th>f7</th>\n",
       "      <th>f8</th>\n",
       "      <th>f9</th>\n",
       "      <th>f10</th>\n",
       "      <th>f11</th>\n",
       "      <th>f12</th>\n",
       "      <th>f13</th>\n",
       "      <th>f14</th>\n",
       "      <th>f15</th>\n",
       "      <th>f16</th>\n",
       "      <th>f17</th>\n",
       "      <th>f18</th>\n",
       "      <th>f19</th>\n",
       "      <th>f20</th>\n",
       "      <th>f21</th>\n",
       "      <th>f22</th>\n",
       "      <th>f23</th>\n",
       "      <th>f24</th>\n",
       "      <th>f25</th>\n",
       "      <th>f26</th>\n",
       "      <th>f27</th>\n",
       "      <th>f28</th>\n",
       "    </tr>\n",
       "  </thead>\n",
       "  <tbody>\n",
       "    <tr>\n",
       "      <th>0</th>\n",
       "      <td>I</td>\n",
       "      <td>AU</td>\n",
       "      <td>134e98eb8</td>\n",
       "      <td>be42001f3</td>\n",
       "      <td>6.8928</td>\n",
       "      <td>B</td>\n",
       "      <td>0.0</td>\n",
       "      <td>R</td>\n",
       "      <td>4.0</td>\n",
       "      <td>PS</td>\n",
       "      <td>1.0</td>\n",
       "      <td>PS</td>\n",
       "      <td>a</td>\n",
       "      <td>0f94eb834</td>\n",
       "      <td>T</td>\n",
       "      <td>I</td>\n",
       "      <td>9.0</td>\n",
       "      <td>0.4</td>\n",
       "      <td>1d2ee04de</td>\n",
       "      <td>3.0</td>\n",
       "      <td>be0264098</td>\n",
       "      <td>3.0</td>\n",
       "      <td>0.0</td>\n",
       "      <td>B</td>\n",
       "      <td>N</td>\n",
       "      <td>51.0</td>\n",
       "      <td>1d2ee04de</td>\n",
       "      <td>m</td>\n",
       "      <td>1.0</td>\n",
       "    </tr>\n",
       "    <tr>\n",
       "      <th>1</th>\n",
       "      <td>N</td>\n",
       "      <td>NaN</td>\n",
       "      <td>232792002</td>\n",
       "      <td>3aad93cab</td>\n",
       "      <td>6.8098</td>\n",
       "      <td>A</td>\n",
       "      <td>1.0</td>\n",
       "      <td>G</td>\n",
       "      <td>6.0</td>\n",
       "      <td>DT</td>\n",
       "      <td>10.0</td>\n",
       "      <td>DT</td>\n",
       "      <td>f</td>\n",
       "      <td>5859a8a06</td>\n",
       "      <td>T</td>\n",
       "      <td>N</td>\n",
       "      <td>12.0</td>\n",
       "      <td>0.5</td>\n",
       "      <td>e06abf51f</td>\n",
       "      <td>1.0</td>\n",
       "      <td>71fb03996</td>\n",
       "      <td>3.0</td>\n",
       "      <td>1.0</td>\n",
       "      <td>F</td>\n",
       "      <td>N</td>\n",
       "      <td>10.0</td>\n",
       "      <td>e06abf51f</td>\n",
       "      <td>k</td>\n",
       "      <td>1.0</td>\n",
       "    </tr>\n",
       "    <tr>\n",
       "      <th>2</th>\n",
       "      <td>P</td>\n",
       "      <td>JP</td>\n",
       "      <td>64e2a3589</td>\n",
       "      <td>90116a97d</td>\n",
       "      <td>6.7761</td>\n",
       "      <td>A</td>\n",
       "      <td>0.0</td>\n",
       "      <td>R</td>\n",
       "      <td>5.0</td>\n",
       "      <td>vq</td>\n",
       "      <td>0.0</td>\n",
       "      <td>vq</td>\n",
       "      <td>c</td>\n",
       "      <td>7d7c02c57</td>\n",
       "      <td>T</td>\n",
       "      <td>P</td>\n",
       "      <td>5.0</td>\n",
       "      <td>0.2</td>\n",
       "      <td>5d1ac7760</td>\n",
       "      <td>2.0</td>\n",
       "      <td>bf987f83f</td>\n",
       "      <td>3.0</td>\n",
       "      <td>0.0</td>\n",
       "      <td>C</td>\n",
       "      <td>S</td>\n",
       "      <td>16.0</td>\n",
       "      <td>5d1ac7760</td>\n",
       "      <td>c</td>\n",
       "      <td>0.0</td>\n",
       "    </tr>\n",
       "    <tr>\n",
       "      <th>3</th>\n",
       "      <td>K</td>\n",
       "      <td>IT</td>\n",
       "      <td>960cdb2ef</td>\n",
       "      <td>dc4ee566b</td>\n",
       "      <td>6.9302</td>\n",
       "      <td>A</td>\n",
       "      <td>0.0</td>\n",
       "      <td>R</td>\n",
       "      <td>5.0</td>\n",
       "      <td>Bx</td>\n",
       "      <td>1.0</td>\n",
       "      <td>Bx</td>\n",
       "      <td>a</td>\n",
       "      <td>165e81a00</td>\n",
       "      <td>F</td>\n",
       "      <td>K</td>\n",
       "      <td>2.0</td>\n",
       "      <td>0.4</td>\n",
       "      <td>b0ab8b134</td>\n",
       "      <td>3.0</td>\n",
       "      <td>d40fcead7</td>\n",
       "      <td>2.0</td>\n",
       "      <td>0.0</td>\n",
       "      <td>D</td>\n",
       "      <td>N</td>\n",
       "      <td>63.0</td>\n",
       "      <td>b0ab8b134</td>\n",
       "      <td>i</td>\n",
       "      <td>1.0</td>\n",
       "    </tr>\n",
       "    <tr>\n",
       "      <th>4</th>\n",
       "      <td>H</td>\n",
       "      <td>AU</td>\n",
       "      <td>8377590c9</td>\n",
       "      <td>f09cc205f</td>\n",
       "      <td>7.0238</td>\n",
       "      <td>A</td>\n",
       "      <td>1.0</td>\n",
       "      <td>G</td>\n",
       "      <td>5.0</td>\n",
       "      <td>kB</td>\n",
       "      <td>0.0</td>\n",
       "      <td>kB</td>\n",
       "      <td>d</td>\n",
       "      <td>35309e01b</td>\n",
       "      <td>T</td>\n",
       "      <td>H</td>\n",
       "      <td>8.0</td>\n",
       "      <td>0.6</td>\n",
       "      <td>0764632bc</td>\n",
       "      <td>6.0</td>\n",
       "      <td>NaN</td>\n",
       "      <td>2.0</td>\n",
       "      <td>1.0</td>\n",
       "      <td>A</td>\n",
       "      <td>S</td>\n",
       "      <td>26.0</td>\n",
       "      <td>0764632bc</td>\n",
       "      <td>h</td>\n",
       "      <td>1.0</td>\n",
       "    </tr>\n",
       "  </tbody>\n",
       "</table>\n",
       "</div>"
      ],
      "text/plain": [
       "  f0   f1         f2         f3      f4 f5   f6 f7   f8  f9   f10 f11 f12  \\\n",
       "0  I   AU  134e98eb8  be42001f3  6.8928  B  0.0  R  4.0  PS   1.0  PS   a   \n",
       "1  N  NaN  232792002  3aad93cab  6.8098  A  1.0  G  6.0  DT  10.0  DT   f   \n",
       "2  P   JP  64e2a3589  90116a97d  6.7761  A  0.0  R  5.0  vq   0.0  vq   c   \n",
       "3  K   IT  960cdb2ef  dc4ee566b  6.9302  A  0.0  R  5.0  Bx   1.0  Bx   a   \n",
       "4  H   AU  8377590c9  f09cc205f  7.0238  A  1.0  G  5.0  kB   0.0  kB   d   \n",
       "\n",
       "         f13 f14 f15   f16  f17        f18  f19        f20  f21  f22 f23 f24  \\\n",
       "0  0f94eb834   T   I   9.0  0.4  1d2ee04de  3.0  be0264098  3.0  0.0   B   N   \n",
       "1  5859a8a06   T   N  12.0  0.5  e06abf51f  1.0  71fb03996  3.0  1.0   F   N   \n",
       "2  7d7c02c57   T   P   5.0  0.2  5d1ac7760  2.0  bf987f83f  3.0  0.0   C   S   \n",
       "3  165e81a00   F   K   2.0  0.4  b0ab8b134  3.0  d40fcead7  2.0  0.0   D   N   \n",
       "4  35309e01b   T   H   8.0  0.6  0764632bc  6.0        NaN  2.0  1.0   A   S   \n",
       "\n",
       "    f25        f26 f27  f28  \n",
       "0  51.0  1d2ee04de   m  1.0  \n",
       "1  10.0  e06abf51f   k  1.0  \n",
       "2  16.0  5d1ac7760   c  0.0  \n",
       "3  63.0  b0ab8b134   i  1.0  \n",
       "4  26.0  0764632bc   h  1.0  "
      ]
     },
     "execution_count": 5,
     "metadata": {},
     "output_type": "execute_result"
    }
   ],
   "source": [
    "X.head()"
   ]
  },
  {
   "cell_type": "markdown",
   "id": "233290fb",
   "metadata": {},
   "source": [
    "We can already make some observations of the data;\n",
    "\n",
    "1. There are some missing values that needs to be handeled\n",
    "2. There are many columns which can be defined as categories, e.g., column F1.  \n",
    "3. Some of the columns seems to have hex values, which can be converted to floats. \n",
    "4. Columns f9 and f11 looks suspiciously alike, and one of them could maybe be dropped"
   ]
  },
  {
   "cell_type": "code",
   "execution_count": 4,
   "id": "bf36e42d",
   "metadata": {},
   "outputs": [
    {
     "name": "stdout",
     "output_type": "stream",
     "text": [
      "<class 'pandas.core.frame.DataFrame'>\n",
      "RangeIndex: 50000 entries, 0 to 49999\n",
      "Data columns (total 29 columns):\n",
      " #   Column  Non-Null Count  Dtype  \n",
      "---  ------  --------------  -----  \n",
      " 0   f0      48488 non-null  object \n",
      " 1   f1      48552 non-null  object \n",
      " 2   f2      48506 non-null  object \n",
      " 3   f3      48507 non-null  object \n",
      " 4   f4      48594 non-null  float64\n",
      " 5   f5      48436 non-null  object \n",
      " 6   f6      48457 non-null  float64\n",
      " 7   f7      48457 non-null  object \n",
      " 8   f8      48522 non-null  float64\n",
      " 9   f9      48572 non-null  object \n",
      " 10  f10     48492 non-null  float64\n",
      " 11  f11     48572 non-null  object \n",
      " 12  f12     48484 non-null  object \n",
      " 13  f13     48519 non-null  object \n",
      " 14  f14     48502 non-null  object \n",
      " 15  f15     48488 non-null  object \n",
      " 16  f16     48488 non-null  float64\n",
      " 17  f17     48545 non-null  float64\n",
      " 18  f18     48488 non-null  object \n",
      " 19  f19     48447 non-null  float64\n",
      " 20  f20     48463 non-null  object \n",
      " 21  f21     48510 non-null  float64\n",
      " 22  f22     48497 non-null  float64\n",
      " 23  f23     48476 non-null  object \n",
      " 24  f24     48476 non-null  object \n",
      " 25  f25     48501 non-null  float64\n",
      " 26  f26     48487 non-null  object \n",
      " 27  f27     48543 non-null  object \n",
      " 28  f28     48535 non-null  float64\n",
      "dtypes: float64(11), object(18)\n",
      "memory usage: 11.1+ MB\n"
     ]
    }
   ],
   "source": [
    "X.info()"
   ]
  },
  {
   "cell_type": "markdown",
   "id": "1fa750c6",
   "metadata": {},
   "source": [
    "We can see that there are a lot of missing values thoughout the entire dataset."
   ]
  },
  {
   "cell_type": "code",
   "execution_count": 6,
   "id": "48487329",
   "metadata": {},
   "outputs": [
    {
     "data": {
      "text/html": [
       "<div>\n",
       "<style scoped>\n",
       "    .dataframe tbody tr th:only-of-type {\n",
       "        vertical-align: middle;\n",
       "    }\n",
       "\n",
       "    .dataframe tbody tr th {\n",
       "        vertical-align: top;\n",
       "    }\n",
       "\n",
       "    .dataframe thead th {\n",
       "        text-align: right;\n",
       "    }\n",
       "</style>\n",
       "<table border=\"1\" class=\"dataframe\">\n",
       "  <thead>\n",
       "    <tr style=\"text-align: right;\">\n",
       "      <th></th>\n",
       "      <th>total_missing</th>\n",
       "      <th>perc_missing</th>\n",
       "    </tr>\n",
       "  </thead>\n",
       "  <tbody>\n",
       "    <tr>\n",
       "      <th>f0</th>\n",
       "      <td>1512</td>\n",
       "      <td>3.024</td>\n",
       "    </tr>\n",
       "    <tr>\n",
       "      <th>f1</th>\n",
       "      <td>1448</td>\n",
       "      <td>2.896</td>\n",
       "    </tr>\n",
       "    <tr>\n",
       "      <th>f2</th>\n",
       "      <td>1494</td>\n",
       "      <td>2.988</td>\n",
       "    </tr>\n",
       "    <tr>\n",
       "      <th>f3</th>\n",
       "      <td>1493</td>\n",
       "      <td>2.986</td>\n",
       "    </tr>\n",
       "    <tr>\n",
       "      <th>f4</th>\n",
       "      <td>1406</td>\n",
       "      <td>2.812</td>\n",
       "    </tr>\n",
       "    <tr>\n",
       "      <th>f5</th>\n",
       "      <td>1564</td>\n",
       "      <td>3.128</td>\n",
       "    </tr>\n",
       "    <tr>\n",
       "      <th>f6</th>\n",
       "      <td>1543</td>\n",
       "      <td>3.086</td>\n",
       "    </tr>\n",
       "    <tr>\n",
       "      <th>f7</th>\n",
       "      <td>1543</td>\n",
       "      <td>3.086</td>\n",
       "    </tr>\n",
       "    <tr>\n",
       "      <th>f8</th>\n",
       "      <td>1478</td>\n",
       "      <td>2.956</td>\n",
       "    </tr>\n",
       "    <tr>\n",
       "      <th>f9</th>\n",
       "      <td>1428</td>\n",
       "      <td>2.856</td>\n",
       "    </tr>\n",
       "    <tr>\n",
       "      <th>f10</th>\n",
       "      <td>1508</td>\n",
       "      <td>3.016</td>\n",
       "    </tr>\n",
       "    <tr>\n",
       "      <th>f11</th>\n",
       "      <td>1428</td>\n",
       "      <td>2.856</td>\n",
       "    </tr>\n",
       "    <tr>\n",
       "      <th>f12</th>\n",
       "      <td>1516</td>\n",
       "      <td>3.032</td>\n",
       "    </tr>\n",
       "    <tr>\n",
       "      <th>f13</th>\n",
       "      <td>1481</td>\n",
       "      <td>2.962</td>\n",
       "    </tr>\n",
       "    <tr>\n",
       "      <th>f14</th>\n",
       "      <td>1498</td>\n",
       "      <td>2.996</td>\n",
       "    </tr>\n",
       "    <tr>\n",
       "      <th>f15</th>\n",
       "      <td>1512</td>\n",
       "      <td>3.024</td>\n",
       "    </tr>\n",
       "    <tr>\n",
       "      <th>f16</th>\n",
       "      <td>1512</td>\n",
       "      <td>3.024</td>\n",
       "    </tr>\n",
       "    <tr>\n",
       "      <th>f17</th>\n",
       "      <td>1455</td>\n",
       "      <td>2.910</td>\n",
       "    </tr>\n",
       "    <tr>\n",
       "      <th>f18</th>\n",
       "      <td>1512</td>\n",
       "      <td>3.024</td>\n",
       "    </tr>\n",
       "    <tr>\n",
       "      <th>f19</th>\n",
       "      <td>1553</td>\n",
       "      <td>3.106</td>\n",
       "    </tr>\n",
       "    <tr>\n",
       "      <th>f20</th>\n",
       "      <td>1537</td>\n",
       "      <td>3.074</td>\n",
       "    </tr>\n",
       "    <tr>\n",
       "      <th>f21</th>\n",
       "      <td>1490</td>\n",
       "      <td>2.980</td>\n",
       "    </tr>\n",
       "    <tr>\n",
       "      <th>f22</th>\n",
       "      <td>1503</td>\n",
       "      <td>3.006</td>\n",
       "    </tr>\n",
       "    <tr>\n",
       "      <th>f23</th>\n",
       "      <td>1524</td>\n",
       "      <td>3.048</td>\n",
       "    </tr>\n",
       "    <tr>\n",
       "      <th>f24</th>\n",
       "      <td>1524</td>\n",
       "      <td>3.048</td>\n",
       "    </tr>\n",
       "    <tr>\n",
       "      <th>f25</th>\n",
       "      <td>1499</td>\n",
       "      <td>2.998</td>\n",
       "    </tr>\n",
       "    <tr>\n",
       "      <th>f26</th>\n",
       "      <td>1513</td>\n",
       "      <td>3.026</td>\n",
       "    </tr>\n",
       "    <tr>\n",
       "      <th>f27</th>\n",
       "      <td>1457</td>\n",
       "      <td>2.914</td>\n",
       "    </tr>\n",
       "    <tr>\n",
       "      <th>f28</th>\n",
       "      <td>1465</td>\n",
       "      <td>2.930</td>\n",
       "    </tr>\n",
       "  </tbody>\n",
       "</table>\n",
       "</div>"
      ],
      "text/plain": [
       "     total_missing  perc_missing\n",
       "f0            1512         3.024\n",
       "f1            1448         2.896\n",
       "f2            1494         2.988\n",
       "f3            1493         2.986\n",
       "f4            1406         2.812\n",
       "f5            1564         3.128\n",
       "f6            1543         3.086\n",
       "f7            1543         3.086\n",
       "f8            1478         2.956\n",
       "f9            1428         2.856\n",
       "f10           1508         3.016\n",
       "f11           1428         2.856\n",
       "f12           1516         3.032\n",
       "f13           1481         2.962\n",
       "f14           1498         2.996\n",
       "f15           1512         3.024\n",
       "f16           1512         3.024\n",
       "f17           1455         2.910\n",
       "f18           1512         3.024\n",
       "f19           1553         3.106\n",
       "f20           1537         3.074\n",
       "f21           1490         2.980\n",
       "f22           1503         3.006\n",
       "f23           1524         3.048\n",
       "f24           1524         3.048\n",
       "f25           1499         2.998\n",
       "f26           1513         3.026\n",
       "f27           1457         2.914\n",
       "f28           1465         2.930"
      ]
     },
     "execution_count": 6,
     "metadata": {},
     "output_type": "execute_result"
    }
   ],
   "source": [
    "missing_data = pd.DataFrame({'total_missing': X.isnull().sum(), 'perc_missing': (X.isnull().sum()/50000)*100})\n",
    "missing_data"
   ]
  },
  {
   "cell_type": "code",
   "execution_count": 7,
   "id": "448f8616",
   "metadata": {
    "scrolled": true
   },
   "outputs": [
    {
     "data": {
      "text/html": [
       "<div>\n",
       "<style scoped>\n",
       "    .dataframe tbody tr th:only-of-type {\n",
       "        vertical-align: middle;\n",
       "    }\n",
       "\n",
       "    .dataframe tbody tr th {\n",
       "        vertical-align: top;\n",
       "    }\n",
       "\n",
       "    .dataframe thead th {\n",
       "        text-align: right;\n",
       "    }\n",
       "</style>\n",
       "<table border=\"1\" class=\"dataframe\">\n",
       "  <thead>\n",
       "    <tr style=\"text-align: right;\">\n",
       "      <th></th>\n",
       "      <th>f4</th>\n",
       "      <th>f6</th>\n",
       "      <th>f8</th>\n",
       "      <th>f10</th>\n",
       "      <th>f16</th>\n",
       "      <th>f17</th>\n",
       "      <th>f19</th>\n",
       "      <th>f21</th>\n",
       "      <th>f22</th>\n",
       "      <th>f25</th>\n",
       "      <th>f28</th>\n",
       "    </tr>\n",
       "  </thead>\n",
       "  <tbody>\n",
       "    <tr>\n",
       "      <th>count</th>\n",
       "      <td>48594.000000</td>\n",
       "      <td>48457.000000</td>\n",
       "      <td>48522.000000</td>\n",
       "      <td>48492.000000</td>\n",
       "      <td>48488.000000</td>\n",
       "      <td>48545.000000</td>\n",
       "      <td>48447.000000</td>\n",
       "      <td>48510.000000</td>\n",
       "      <td>48497.000000</td>\n",
       "      <td>48501.000000</td>\n",
       "      <td>48535.000000</td>\n",
       "    </tr>\n",
       "    <tr>\n",
       "      <th>mean</th>\n",
       "      <td>6.988378</td>\n",
       "      <td>0.536847</td>\n",
       "      <td>4.112032</td>\n",
       "      <td>1.721665</td>\n",
       "      <td>6.362399</td>\n",
       "      <td>0.409113</td>\n",
       "      <td>4.120689</td>\n",
       "      <td>1.947784</td>\n",
       "      <td>0.628328</td>\n",
       "      <td>62.147378</td>\n",
       "      <td>0.537406</td>\n",
       "    </tr>\n",
       "    <tr>\n",
       "      <th>std</th>\n",
       "      <td>0.152945</td>\n",
       "      <td>0.656913</td>\n",
       "      <td>1.851792</td>\n",
       "      <td>3.427500</td>\n",
       "      <td>3.455422</td>\n",
       "      <td>0.185697</td>\n",
       "      <td>2.034561</td>\n",
       "      <td>0.852700</td>\n",
       "      <td>0.483257</td>\n",
       "      <td>33.086578</td>\n",
       "      <td>0.498604</td>\n",
       "    </tr>\n",
       "    <tr>\n",
       "      <th>min</th>\n",
       "      <td>6.521800</td>\n",
       "      <td>0.000000</td>\n",
       "      <td>1.000000</td>\n",
       "      <td>0.000000</td>\n",
       "      <td>1.000000</td>\n",
       "      <td>0.100000</td>\n",
       "      <td>1.000000</td>\n",
       "      <td>1.000000</td>\n",
       "      <td>0.000000</td>\n",
       "      <td>1.000000</td>\n",
       "      <td>0.000000</td>\n",
       "    </tr>\n",
       "    <tr>\n",
       "      <th>25%</th>\n",
       "      <td>6.870225</td>\n",
       "      <td>0.000000</td>\n",
       "      <td>3.000000</td>\n",
       "      <td>0.000000</td>\n",
       "      <td>3.000000</td>\n",
       "      <td>0.200000</td>\n",
       "      <td>2.000000</td>\n",
       "      <td>1.000000</td>\n",
       "      <td>0.000000</td>\n",
       "      <td>32.000000</td>\n",
       "      <td>0.000000</td>\n",
       "    </tr>\n",
       "    <tr>\n",
       "      <th>50%</th>\n",
       "      <td>6.987500</td>\n",
       "      <td>0.000000</td>\n",
       "      <td>5.000000</td>\n",
       "      <td>0.000000</td>\n",
       "      <td>6.000000</td>\n",
       "      <td>0.500000</td>\n",
       "      <td>5.000000</td>\n",
       "      <td>2.000000</td>\n",
       "      <td>1.000000</td>\n",
       "      <td>65.000000</td>\n",
       "      <td>1.000000</td>\n",
       "    </tr>\n",
       "    <tr>\n",
       "      <th>75%</th>\n",
       "      <td>7.102300</td>\n",
       "      <td>1.000000</td>\n",
       "      <td>6.000000</td>\n",
       "      <td>1.000000</td>\n",
       "      <td>8.000000</td>\n",
       "      <td>0.600000</td>\n",
       "      <td>6.000000</td>\n",
       "      <td>3.000000</td>\n",
       "      <td>1.000000</td>\n",
       "      <td>94.000000</td>\n",
       "      <td>1.000000</td>\n",
       "    </tr>\n",
       "    <tr>\n",
       "      <th>max</th>\n",
       "      <td>7.479400</td>\n",
       "      <td>2.000000</td>\n",
       "      <td>6.000000</td>\n",
       "      <td>11.000000</td>\n",
       "      <td>12.000000</td>\n",
       "      <td>0.600000</td>\n",
       "      <td>7.000000</td>\n",
       "      <td>3.000000</td>\n",
       "      <td>1.000000</td>\n",
       "      <td>104.000000</td>\n",
       "      <td>1.000000</td>\n",
       "    </tr>\n",
       "  </tbody>\n",
       "</table>\n",
       "</div>"
      ],
      "text/plain": [
       "                 f4            f6            f8           f10           f16  \\\n",
       "count  48594.000000  48457.000000  48522.000000  48492.000000  48488.000000   \n",
       "mean       6.988378      0.536847      4.112032      1.721665      6.362399   \n",
       "std        0.152945      0.656913      1.851792      3.427500      3.455422   \n",
       "min        6.521800      0.000000      1.000000      0.000000      1.000000   \n",
       "25%        6.870225      0.000000      3.000000      0.000000      3.000000   \n",
       "50%        6.987500      0.000000      5.000000      0.000000      6.000000   \n",
       "75%        7.102300      1.000000      6.000000      1.000000      8.000000   \n",
       "max        7.479400      2.000000      6.000000     11.000000     12.000000   \n",
       "\n",
       "                f17           f19           f21           f22           f25  \\\n",
       "count  48545.000000  48447.000000  48510.000000  48497.000000  48501.000000   \n",
       "mean       0.409113      4.120689      1.947784      0.628328     62.147378   \n",
       "std        0.185697      2.034561      0.852700      0.483257     33.086578   \n",
       "min        0.100000      1.000000      1.000000      0.000000      1.000000   \n",
       "25%        0.200000      2.000000      1.000000      0.000000     32.000000   \n",
       "50%        0.500000      5.000000      2.000000      1.000000     65.000000   \n",
       "75%        0.600000      6.000000      3.000000      1.000000     94.000000   \n",
       "max        0.600000      7.000000      3.000000      1.000000    104.000000   \n",
       "\n",
       "                f28  \n",
       "count  48535.000000  \n",
       "mean       0.537406  \n",
       "std        0.498604  \n",
       "min        0.000000  \n",
       "25%        0.000000  \n",
       "50%        1.000000  \n",
       "75%        1.000000  \n",
       "max        1.000000  "
      ]
     },
     "execution_count": 7,
     "metadata": {},
     "output_type": "execute_result"
    }
   ],
   "source": [
    "X.describe()"
   ]
  },
  {
   "cell_type": "markdown",
   "id": "fb37ef42",
   "metadata": {},
   "source": [
    "There are some interesting facts here;\n",
    "\n",
    "1. "
   ]
  },
  {
   "cell_type": "code",
   "execution_count": 13,
   "id": "89129e28",
   "metadata": {
    "scrolled": true
   },
   "outputs": [
    {
     "data": {
      "image/png": "[encoded data removed]",
      "text/plain": [
       "<Figure size 1296x1296 with 1 Axes>"
      ]
     },
     "metadata": {
      "needs_background": "light"
     },
     "output_type": "display_data"
    }
   ],
   "source": [
    "numerical_columns = ['f4', 'f6', 'f8', 'f10', 'f16', 'f17', 'f19', 'f21', 'f22', 'f28']\n",
    "plt.figure(figsize=(18, 18))\n",
    "X[numerical_columns].boxplot()\n",
    "plt.title(\"Numerical variables\", fontsize=20)\n",
    "plt.show()"
   ]
  },
  {
   "cell_type": "markdown",
   "id": "7827dbc2",
   "metadata": {},
   "source": [
    "We see that we have some outliers in some of the columns. Are these mis-typed data? E.g., for feature f10, the outliers are 10 and 11:"
   ]
  },
  {
   "cell_type": "code",
   "execution_count": 21,
   "id": "6e11ec4e",
   "metadata": {
    "scrolled": true
   },
   "outputs": [
    {
     "data": {
      "text/html": [
       "<div>\n",
       "<style scoped>\n",
       "    .dataframe tbody tr th:only-of-type {\n",
       "        vertical-align: middle;\n",
       "    }\n",
       "\n",
       "    .dataframe tbody tr th {\n",
       "        vertical-align: top;\n",
       "    }\n",
       "\n",
       "    .dataframe thead th {\n",
       "        text-align: right;\n",
       "    }\n",
       "</style>\n",
       "<table border=\"1\" class=\"dataframe\">\n",
       "  <thead>\n",
       "    <tr style=\"text-align: right;\">\n",
       "      <th></th>\n",
       "      <th>f0</th>\n",
       "      <th>f1</th>\n",
       "      <th>f2</th>\n",
       "      <th>f3</th>\n",
       "      <th>f4</th>\n",
       "      <th>f5</th>\n",
       "      <th>f6</th>\n",
       "      <th>f7</th>\n",
       "      <th>f8</th>\n",
       "      <th>f9</th>\n",
       "      <th>f10</th>\n",
       "      <th>f11</th>\n",
       "      <th>f12</th>\n",
       "      <th>f13</th>\n",
       "      <th>f14</th>\n",
       "      <th>f15</th>\n",
       "      <th>f16</th>\n",
       "      <th>f17</th>\n",
       "      <th>f18</th>\n",
       "      <th>f19</th>\n",
       "      <th>f20</th>\n",
       "      <th>f21</th>\n",
       "      <th>f22</th>\n",
       "      <th>f23</th>\n",
       "      <th>f24</th>\n",
       "      <th>f25</th>\n",
       "      <th>f26</th>\n",
       "      <th>f27</th>\n",
       "      <th>f28</th>\n",
       "    </tr>\n",
       "  </thead>\n",
       "  <tbody>\n",
       "    <tr>\n",
       "      <th>71</th>\n",
       "      <td>Y</td>\n",
       "      <td>AU</td>\n",
       "      <td>18d43aee8</td>\n",
       "      <td>35b03d3c6</td>\n",
       "      <td>7.2906</td>\n",
       "      <td>A</td>\n",
       "      <td>0.0</td>\n",
       "      <td>R</td>\n",
       "      <td>6.0</td>\n",
       "      <td>sF</td>\n",
       "      <td>11.0</td>\n",
       "      <td>sF</td>\n",
       "      <td>f</td>\n",
       "      <td>cf30695f0</td>\n",
       "      <td>T</td>\n",
       "      <td>Y</td>\n",
       "      <td>2.0</td>\n",
       "      <td>NaN</td>\n",
       "      <td>3d9d8f526</td>\n",
       "      <td>1.0</td>\n",
       "      <td>a308a5120</td>\n",
       "      <td>1.0</td>\n",
       "      <td>1.0</td>\n",
       "      <td>E</td>\n",
       "      <td>N</td>\n",
       "      <td>64.0</td>\n",
       "      <td>3d9d8f526</td>\n",
       "      <td>c</td>\n",
       "      <td>1.0</td>\n",
       "    </tr>\n",
       "    <tr>\n",
       "      <th>72</th>\n",
       "      <td>Z</td>\n",
       "      <td>AU</td>\n",
       "      <td>f75278ebf</td>\n",
       "      <td>c5ac37f57</td>\n",
       "      <td>7.0686</td>\n",
       "      <td>A</td>\n",
       "      <td>1.0</td>\n",
       "      <td>G</td>\n",
       "      <td>1.0</td>\n",
       "      <td>Lo</td>\n",
       "      <td>11.0</td>\n",
       "      <td>Lo</td>\n",
       "      <td>a</td>\n",
       "      <td>6f853fd13</td>\n",
       "      <td>T</td>\n",
       "      <td>Z</td>\n",
       "      <td>7.0</td>\n",
       "      <td>0.4</td>\n",
       "      <td>93360bbc9</td>\n",
       "      <td>3.0</td>\n",
       "      <td>47e50cd99</td>\n",
       "      <td>1.0</td>\n",
       "      <td>1.0</td>\n",
       "      <td>D</td>\n",
       "      <td>N</td>\n",
       "      <td>104.0</td>\n",
       "      <td>93360bbc9</td>\n",
       "      <td>h</td>\n",
       "      <td>1.0</td>\n",
       "    </tr>\n",
       "    <tr>\n",
       "      <th>128</th>\n",
       "      <td>P</td>\n",
       "      <td>CN</td>\n",
       "      <td>NaN</td>\n",
       "      <td>ebfbdb901</td>\n",
       "      <td>6.6936</td>\n",
       "      <td>A</td>\n",
       "      <td>NaN</td>\n",
       "      <td>NaN</td>\n",
       "      <td>4.0</td>\n",
       "      <td>RD</td>\n",
       "      <td>11.0</td>\n",
       "      <td>RD</td>\n",
       "      <td>f</td>\n",
       "      <td>9417fa5d7</td>\n",
       "      <td>T</td>\n",
       "      <td>P</td>\n",
       "      <td>2.0</td>\n",
       "      <td>0.4</td>\n",
       "      <td>4ae48e857</td>\n",
       "      <td>3.0</td>\n",
       "      <td>d12c03f6d</td>\n",
       "      <td>1.0</td>\n",
       "      <td>1.0</td>\n",
       "      <td>F</td>\n",
       "      <td>N</td>\n",
       "      <td>90.0</td>\n",
       "      <td>4ae48e857</td>\n",
       "      <td>n</td>\n",
       "      <td>NaN</td>\n",
       "    </tr>\n",
       "    <tr>\n",
       "      <th>187</th>\n",
       "      <td>Q</td>\n",
       "      <td>DE</td>\n",
       "      <td>688e92338</td>\n",
       "      <td>0289ab250</td>\n",
       "      <td>7.0837</td>\n",
       "      <td>A</td>\n",
       "      <td>0.0</td>\n",
       "      <td>R</td>\n",
       "      <td>1.0</td>\n",
       "      <td>Ay</td>\n",
       "      <td>11.0</td>\n",
       "      <td>Ay</td>\n",
       "      <td>a</td>\n",
       "      <td>8109ba950</td>\n",
       "      <td>T</td>\n",
       "      <td>Q</td>\n",
       "      <td>12.0</td>\n",
       "      <td>0.1</td>\n",
       "      <td>3c415c2b7</td>\n",
       "      <td>3.0</td>\n",
       "      <td>5bb96f9b6</td>\n",
       "      <td>1.0</td>\n",
       "      <td>1.0</td>\n",
       "      <td>F</td>\n",
       "      <td>N</td>\n",
       "      <td>70.0</td>\n",
       "      <td>3c415c2b7</td>\n",
       "      <td>d</td>\n",
       "      <td>1.0</td>\n",
       "    </tr>\n",
       "    <tr>\n",
       "      <th>191</th>\n",
       "      <td>H</td>\n",
       "      <td>CN</td>\n",
       "      <td>fde576c8b</td>\n",
       "      <td>58bdf8adb</td>\n",
       "      <td>NaN</td>\n",
       "      <td>A</td>\n",
       "      <td>NaN</td>\n",
       "      <td>NaN</td>\n",
       "      <td>5.0</td>\n",
       "      <td>SS</td>\n",
       "      <td>11.0</td>\n",
       "      <td>SS</td>\n",
       "      <td>a</td>\n",
       "      <td>35309e01b</td>\n",
       "      <td>T</td>\n",
       "      <td>H</td>\n",
       "      <td>2.0</td>\n",
       "      <td>0.6</td>\n",
       "      <td>3d9d8f526</td>\n",
       "      <td>5.0</td>\n",
       "      <td>0b64aff5f</td>\n",
       "      <td>1.0</td>\n",
       "      <td>1.0</td>\n",
       "      <td>F</td>\n",
       "      <td>N</td>\n",
       "      <td>83.0</td>\n",
       "      <td>3d9d8f526</td>\n",
       "      <td>a</td>\n",
       "      <td>0.0</td>\n",
       "    </tr>\n",
       "    <tr>\n",
       "      <th>...</th>\n",
       "      <td>...</td>\n",
       "      <td>...</td>\n",
       "      <td>...</td>\n",
       "      <td>...</td>\n",
       "      <td>...</td>\n",
       "      <td>...</td>\n",
       "      <td>...</td>\n",
       "      <td>...</td>\n",
       "      <td>...</td>\n",
       "      <td>...</td>\n",
       "      <td>...</td>\n",
       "      <td>...</td>\n",
       "      <td>...</td>\n",
       "      <td>...</td>\n",
       "      <td>...</td>\n",
       "      <td>...</td>\n",
       "      <td>...</td>\n",
       "      <td>...</td>\n",
       "      <td>...</td>\n",
       "      <td>...</td>\n",
       "      <td>...</td>\n",
       "      <td>...</td>\n",
       "      <td>...</td>\n",
       "      <td>...</td>\n",
       "      <td>...</td>\n",
       "      <td>...</td>\n",
       "      <td>...</td>\n",
       "      <td>...</td>\n",
       "      <td>...</td>\n",
       "    </tr>\n",
       "    <tr>\n",
       "      <th>49935</th>\n",
       "      <td>H</td>\n",
       "      <td>AU</td>\n",
       "      <td>768eeb8e3</td>\n",
       "      <td>346c85aa7</td>\n",
       "      <td>6.9153</td>\n",
       "      <td>B</td>\n",
       "      <td>1.0</td>\n",
       "      <td>G</td>\n",
       "      <td>5.0</td>\n",
       "      <td>OZ</td>\n",
       "      <td>11.0</td>\n",
       "      <td>OZ</td>\n",
       "      <td>f</td>\n",
       "      <td>9dd6a02eb</td>\n",
       "      <td>T</td>\n",
       "      <td>H</td>\n",
       "      <td>7.0</td>\n",
       "      <td>0.1</td>\n",
       "      <td>81d67e1bb</td>\n",
       "      <td>7.0</td>\n",
       "      <td>NaN</td>\n",
       "      <td>1.0</td>\n",
       "      <td>1.0</td>\n",
       "      <td>F</td>\n",
       "      <td>N</td>\n",
       "      <td>85.0</td>\n",
       "      <td>81d67e1bb</td>\n",
       "      <td>n</td>\n",
       "      <td>1.0</td>\n",
       "    </tr>\n",
       "    <tr>\n",
       "      <th>49952</th>\n",
       "      <td>P</td>\n",
       "      <td>DE</td>\n",
       "      <td>c34c5b997</td>\n",
       "      <td>65befc469</td>\n",
       "      <td>6.9578</td>\n",
       "      <td>A</td>\n",
       "      <td>0.0</td>\n",
       "      <td>R</td>\n",
       "      <td>4.0</td>\n",
       "      <td>Ey</td>\n",
       "      <td>11.0</td>\n",
       "      <td>Ey</td>\n",
       "      <td>NaN</td>\n",
       "      <td>90e9e961e</td>\n",
       "      <td>T</td>\n",
       "      <td>P</td>\n",
       "      <td>1.0</td>\n",
       "      <td>0.3</td>\n",
       "      <td>3a33ef960</td>\n",
       "      <td>2.0</td>\n",
       "      <td>82f6dc733</td>\n",
       "      <td>3.0</td>\n",
       "      <td>1.0</td>\n",
       "      <td>F</td>\n",
       "      <td>N</td>\n",
       "      <td>5.0</td>\n",
       "      <td>3a33ef960</td>\n",
       "      <td>k</td>\n",
       "      <td>0.0</td>\n",
       "    </tr>\n",
       "    <tr>\n",
       "      <th>49958</th>\n",
       "      <td>I</td>\n",
       "      <td>AU</td>\n",
       "      <td>4bb089ca4</td>\n",
       "      <td>d424acac5</td>\n",
       "      <td>7.0974</td>\n",
       "      <td>A</td>\n",
       "      <td>1.0</td>\n",
       "      <td>G</td>\n",
       "      <td>6.0</td>\n",
       "      <td>UV</td>\n",
       "      <td>11.0</td>\n",
       "      <td>UV</td>\n",
       "      <td>d</td>\n",
       "      <td>4abb8589e</td>\n",
       "      <td>T</td>\n",
       "      <td>I</td>\n",
       "      <td>11.0</td>\n",
       "      <td>0.1</td>\n",
       "      <td>1dddb8473</td>\n",
       "      <td>1.0</td>\n",
       "      <td>a308a5120</td>\n",
       "      <td>2.0</td>\n",
       "      <td>1.0</td>\n",
       "      <td>F</td>\n",
       "      <td>S</td>\n",
       "      <td>104.0</td>\n",
       "      <td>1dddb8473</td>\n",
       "      <td>f</td>\n",
       "      <td>0.0</td>\n",
       "    </tr>\n",
       "    <tr>\n",
       "      <th>49973</th>\n",
       "      <td>H</td>\n",
       "      <td>AU</td>\n",
       "      <td>fac5029fd</td>\n",
       "      <td>503a43163</td>\n",
       "      <td>7.0369</td>\n",
       "      <td>A</td>\n",
       "      <td>1.0</td>\n",
       "      <td>G</td>\n",
       "      <td>5.0</td>\n",
       "      <td>XC</td>\n",
       "      <td>11.0</td>\n",
       "      <td>XC</td>\n",
       "      <td>a</td>\n",
       "      <td>d8bad19d0</td>\n",
       "      <td>T</td>\n",
       "      <td>H</td>\n",
       "      <td>3.0</td>\n",
       "      <td>0.4</td>\n",
       "      <td>e5b00a0e0</td>\n",
       "      <td>7.0</td>\n",
       "      <td>09de32560</td>\n",
       "      <td>2.0</td>\n",
       "      <td>1.0</td>\n",
       "      <td>E</td>\n",
       "      <td>N</td>\n",
       "      <td>46.0</td>\n",
       "      <td>e5b00a0e0</td>\n",
       "      <td>c</td>\n",
       "      <td>0.0</td>\n",
       "    </tr>\n",
       "    <tr>\n",
       "      <th>49983</th>\n",
       "      <td>R</td>\n",
       "      <td>AU</td>\n",
       "      <td>56436e41a</td>\n",
       "      <td>c0e9469c1</td>\n",
       "      <td>7.1325</td>\n",
       "      <td>A</td>\n",
       "      <td>0.0</td>\n",
       "      <td>R</td>\n",
       "      <td>5.0</td>\n",
       "      <td>DI</td>\n",
       "      <td>11.0</td>\n",
       "      <td>DI</td>\n",
       "      <td>c</td>\n",
       "      <td>a8009baf5</td>\n",
       "      <td>T</td>\n",
       "      <td>R</td>\n",
       "      <td>NaN</td>\n",
       "      <td>0.6</td>\n",
       "      <td>9b35d8994</td>\n",
       "      <td>6.0</td>\n",
       "      <td>872ff31be</td>\n",
       "      <td>1.0</td>\n",
       "      <td>1.0</td>\n",
       "      <td>D</td>\n",
       "      <td>S</td>\n",
       "      <td>72.0</td>\n",
       "      <td>9b35d8994</td>\n",
       "      <td>i</td>\n",
       "      <td>1.0</td>\n",
       "    </tr>\n",
       "  </tbody>\n",
       "</table>\n",
       "<p>2304 rows × 29 columns</p>\n",
       "</div>"
      ],
      "text/plain": [
       "      f0  f1         f2         f3      f4 f5   f6   f7   f8  f9   f10 f11  \\\n",
       "71     Y  AU  18d43aee8  35b03d3c6  7.2906  A  0.0    R  6.0  sF  11.0  sF   \n",
       "72     Z  AU  f75278ebf  c5ac37f57  7.0686  A  1.0    G  1.0  Lo  11.0  Lo   \n",
       "128    P  CN        NaN  ebfbdb901  6.6936  A  NaN  NaN  4.0  RD  11.0  RD   \n",
       "187    Q  DE  688e92338  0289ab250  7.0837  A  0.0    R  1.0  Ay  11.0  Ay   \n",
       "191    H  CN  fde576c8b  58bdf8adb     NaN  A  NaN  NaN  5.0  SS  11.0  SS   \n",
       "...   ..  ..        ...        ...     ... ..  ...  ...  ...  ..   ...  ..   \n",
       "49935  H  AU  768eeb8e3  346c85aa7  6.9153  B  1.0    G  5.0  OZ  11.0  OZ   \n",
       "49952  P  DE  c34c5b997  65befc469  6.9578  A  0.0    R  4.0  Ey  11.0  Ey   \n",
       "49958  I  AU  4bb089ca4  d424acac5  7.0974  A  1.0    G  6.0  UV  11.0  UV   \n",
       "49973  H  AU  fac5029fd  503a43163  7.0369  A  1.0    G  5.0  XC  11.0  XC   \n",
       "49983  R  AU  56436e41a  c0e9469c1  7.1325  A  0.0    R  5.0  DI  11.0  DI   \n",
       "\n",
       "       f12        f13 f14 f15   f16  f17        f18  f19        f20  f21  f22  \\\n",
       "71       f  cf30695f0   T   Y   2.0  NaN  3d9d8f526  1.0  a308a5120  1.0  1.0   \n",
       "72       a  6f853fd13   T   Z   7.0  0.4  93360bbc9  3.0  47e50cd99  1.0  1.0   \n",
       "128      f  9417fa5d7   T   P   2.0  0.4  4ae48e857  3.0  d12c03f6d  1.0  1.0   \n",
       "187      a  8109ba950   T   Q  12.0  0.1  3c415c2b7  3.0  5bb96f9b6  1.0  1.0   \n",
       "191      a  35309e01b   T   H   2.0  0.6  3d9d8f526  5.0  0b64aff5f  1.0  1.0   \n",
       "...    ...        ...  ..  ..   ...  ...        ...  ...        ...  ...  ...   \n",
       "49935    f  9dd6a02eb   T   H   7.0  0.1  81d67e1bb  7.0        NaN  1.0  1.0   \n",
       "49952  NaN  90e9e961e   T   P   1.0  0.3  3a33ef960  2.0  82f6dc733  3.0  1.0   \n",
       "49958    d  4abb8589e   T   I  11.0  0.1  1dddb8473  1.0  a308a5120  2.0  1.0   \n",
       "49973    a  d8bad19d0   T   H   3.0  0.4  e5b00a0e0  7.0  09de32560  2.0  1.0   \n",
       "49983    c  a8009baf5   T   R   NaN  0.6  9b35d8994  6.0  872ff31be  1.0  1.0   \n",
       "\n",
       "      f23 f24    f25        f26 f27  f28  \n",
       "71      E   N   64.0  3d9d8f526   c  1.0  \n",
       "72      D   N  104.0  93360bbc9   h  1.0  \n",
       "128     F   N   90.0  4ae48e857   n  NaN  \n",
       "187     F   N   70.0  3c415c2b7   d  1.0  \n",
       "191     F   N   83.0  3d9d8f526   a  0.0  \n",
       "...    ..  ..    ...        ...  ..  ...  \n",
       "49935   F   N   85.0  81d67e1bb   n  1.0  \n",
       "49952   F   N    5.0  3a33ef960   k  0.0  \n",
       "49958   F   S  104.0  1dddb8473   f  0.0  \n",
       "49973   E   N   46.0  e5b00a0e0   c  0.0  \n",
       "49983   D   S   72.0  9b35d8994   i  1.0  \n",
       "\n",
       "[2304 rows x 29 columns]"
      ]
     },
     "execution_count": 21,
     "metadata": {},
     "output_type": "execute_result"
    }
   ],
   "source": [
    "X[X['f10'] == 11]"
   ]
  },
  {
   "cell_type": "code",
   "execution_count": 22,
   "id": "59f8ec06",
   "metadata": {
    "scrolled": true
   },
   "outputs": [
    {
     "data": {
      "text/html": [
       "<div>\n",
       "<style scoped>\n",
       "    .dataframe tbody tr th:only-of-type {\n",
       "        vertical-align: middle;\n",
       "    }\n",
       "\n",
       "    .dataframe tbody tr th {\n",
       "        vertical-align: top;\n",
       "    }\n",
       "\n",
       "    .dataframe thead th {\n",
       "        text-align: right;\n",
       "    }\n",
       "</style>\n",
       "<table border=\"1\" class=\"dataframe\">\n",
       "  <thead>\n",
       "    <tr style=\"text-align: right;\">\n",
       "      <th></th>\n",
       "      <th>f0</th>\n",
       "      <th>f1</th>\n",
       "      <th>f2</th>\n",
       "      <th>f3</th>\n",
       "      <th>f4</th>\n",
       "      <th>f5</th>\n",
       "      <th>f6</th>\n",
       "      <th>f7</th>\n",
       "      <th>f8</th>\n",
       "      <th>f9</th>\n",
       "      <th>f10</th>\n",
       "      <th>f11</th>\n",
       "      <th>f12</th>\n",
       "      <th>f13</th>\n",
       "      <th>f14</th>\n",
       "      <th>f15</th>\n",
       "      <th>f16</th>\n",
       "      <th>f17</th>\n",
       "      <th>f18</th>\n",
       "      <th>f19</th>\n",
       "      <th>f20</th>\n",
       "      <th>f21</th>\n",
       "      <th>f22</th>\n",
       "      <th>f23</th>\n",
       "      <th>f24</th>\n",
       "      <th>f25</th>\n",
       "      <th>f26</th>\n",
       "      <th>f27</th>\n",
       "      <th>f28</th>\n",
       "    </tr>\n",
       "  </thead>\n",
       "  <tbody>\n",
       "    <tr>\n",
       "      <th>1</th>\n",
       "      <td>N</td>\n",
       "      <td>NaN</td>\n",
       "      <td>232792002</td>\n",
       "      <td>3aad93cab</td>\n",
       "      <td>6.8098</td>\n",
       "      <td>A</td>\n",
       "      <td>1.0</td>\n",
       "      <td>G</td>\n",
       "      <td>6.0</td>\n",
       "      <td>DT</td>\n",
       "      <td>10.0</td>\n",
       "      <td>DT</td>\n",
       "      <td>f</td>\n",
       "      <td>5859a8a06</td>\n",
       "      <td>T</td>\n",
       "      <td>N</td>\n",
       "      <td>12.0</td>\n",
       "      <td>0.5</td>\n",
       "      <td>e06abf51f</td>\n",
       "      <td>1.0</td>\n",
       "      <td>71fb03996</td>\n",
       "      <td>3.0</td>\n",
       "      <td>1.0</td>\n",
       "      <td>F</td>\n",
       "      <td>N</td>\n",
       "      <td>10.0</td>\n",
       "      <td>e06abf51f</td>\n",
       "      <td>k</td>\n",
       "      <td>1.0</td>\n",
       "    </tr>\n",
       "    <tr>\n",
       "      <th>9</th>\n",
       "      <td>X</td>\n",
       "      <td>JP</td>\n",
       "      <td>8a3703ad4</td>\n",
       "      <td>7662ca2a1</td>\n",
       "      <td>6.9468</td>\n",
       "      <td>B</td>\n",
       "      <td>0.0</td>\n",
       "      <td>R</td>\n",
       "      <td>NaN</td>\n",
       "      <td>Nh</td>\n",
       "      <td>10.0</td>\n",
       "      <td>Nh</td>\n",
       "      <td>a</td>\n",
       "      <td>f41dce3cc</td>\n",
       "      <td>T</td>\n",
       "      <td>X</td>\n",
       "      <td>1.0</td>\n",
       "      <td>0.6</td>\n",
       "      <td>cf84cbe77</td>\n",
       "      <td>6.0</td>\n",
       "      <td>8258d9700</td>\n",
       "      <td>2.0</td>\n",
       "      <td>0.0</td>\n",
       "      <td>F</td>\n",
       "      <td>N</td>\n",
       "      <td>52.0</td>\n",
       "      <td>cf84cbe77</td>\n",
       "      <td>n</td>\n",
       "      <td>0.0</td>\n",
       "    </tr>\n",
       "    <tr>\n",
       "      <th>14</th>\n",
       "      <td>X</td>\n",
       "      <td>CN</td>\n",
       "      <td>9e2a50c5e</td>\n",
       "      <td>e38bd1b9c</td>\n",
       "      <td>7.1511</td>\n",
       "      <td>B</td>\n",
       "      <td>0.0</td>\n",
       "      <td>R</td>\n",
       "      <td>1.0</td>\n",
       "      <td>Sz</td>\n",
       "      <td>10.0</td>\n",
       "      <td>Sz</td>\n",
       "      <td>d</td>\n",
       "      <td>9c63b4d79</td>\n",
       "      <td>T</td>\n",
       "      <td>X</td>\n",
       "      <td>12.0</td>\n",
       "      <td>0.4</td>\n",
       "      <td>088aace2d</td>\n",
       "      <td>7.0</td>\n",
       "      <td>NaN</td>\n",
       "      <td>1.0</td>\n",
       "      <td>1.0</td>\n",
       "      <td>F</td>\n",
       "      <td>N</td>\n",
       "      <td>84.0</td>\n",
       "      <td>088aace2d</td>\n",
       "      <td>e</td>\n",
       "      <td>0.0</td>\n",
       "    </tr>\n",
       "    <tr>\n",
       "      <th>16</th>\n",
       "      <td>F</td>\n",
       "      <td>JP</td>\n",
       "      <td>93a92d728</td>\n",
       "      <td>NaN</td>\n",
       "      <td>6.8428</td>\n",
       "      <td>A</td>\n",
       "      <td>0.0</td>\n",
       "      <td>R</td>\n",
       "      <td>5.0</td>\n",
       "      <td>rl</td>\n",
       "      <td>10.0</td>\n",
       "      <td>rl</td>\n",
       "      <td>f</td>\n",
       "      <td>fbbafaadc</td>\n",
       "      <td>T</td>\n",
       "      <td>F</td>\n",
       "      <td>5.0</td>\n",
       "      <td>0.1</td>\n",
       "      <td>833d88c6c</td>\n",
       "      <td>1.0</td>\n",
       "      <td>150a8cb16</td>\n",
       "      <td>1.0</td>\n",
       "      <td>1.0</td>\n",
       "      <td>E</td>\n",
       "      <td>N</td>\n",
       "      <td>34.0</td>\n",
       "      <td>833d88c6c</td>\n",
       "      <td>i</td>\n",
       "      <td>1.0</td>\n",
       "    </tr>\n",
       "    <tr>\n",
       "      <th>17</th>\n",
       "      <td>N</td>\n",
       "      <td>AU</td>\n",
       "      <td>5c8fa9c24</td>\n",
       "      <td>1afcc7a12</td>\n",
       "      <td>7.2495</td>\n",
       "      <td>B</td>\n",
       "      <td>2.0</td>\n",
       "      <td>B</td>\n",
       "      <td>6.0</td>\n",
       "      <td>rg</td>\n",
       "      <td>10.0</td>\n",
       "      <td>rg</td>\n",
       "      <td>f</td>\n",
       "      <td>484c96b82</td>\n",
       "      <td>T</td>\n",
       "      <td>N</td>\n",
       "      <td>1.0</td>\n",
       "      <td>0.2</td>\n",
       "      <td>f14f5e4a5</td>\n",
       "      <td>7.0</td>\n",
       "      <td>61cd16ba8</td>\n",
       "      <td>1.0</td>\n",
       "      <td>0.0</td>\n",
       "      <td>F</td>\n",
       "      <td>N</td>\n",
       "      <td>70.0</td>\n",
       "      <td>f14f5e4a5</td>\n",
       "      <td>h</td>\n",
       "      <td>1.0</td>\n",
       "    </tr>\n",
       "    <tr>\n",
       "      <th>...</th>\n",
       "      <td>...</td>\n",
       "      <td>...</td>\n",
       "      <td>...</td>\n",
       "      <td>...</td>\n",
       "      <td>...</td>\n",
       "      <td>...</td>\n",
       "      <td>...</td>\n",
       "      <td>...</td>\n",
       "      <td>...</td>\n",
       "      <td>...</td>\n",
       "      <td>...</td>\n",
       "      <td>...</td>\n",
       "      <td>...</td>\n",
       "      <td>...</td>\n",
       "      <td>...</td>\n",
       "      <td>...</td>\n",
       "      <td>...</td>\n",
       "      <td>...</td>\n",
       "      <td>...</td>\n",
       "      <td>...</td>\n",
       "      <td>...</td>\n",
       "      <td>...</td>\n",
       "      <td>...</td>\n",
       "      <td>...</td>\n",
       "      <td>...</td>\n",
       "      <td>...</td>\n",
       "      <td>...</td>\n",
       "      <td>...</td>\n",
       "      <td>...</td>\n",
       "    </tr>\n",
       "    <tr>\n",
       "      <th>49936</th>\n",
       "      <td>H</td>\n",
       "      <td>JP</td>\n",
       "      <td>9fa481341</td>\n",
       "      <td>6ec8ac294</td>\n",
       "      <td>6.9465</td>\n",
       "      <td>A</td>\n",
       "      <td>0.0</td>\n",
       "      <td>R</td>\n",
       "      <td>5.0</td>\n",
       "      <td>Mq</td>\n",
       "      <td>10.0</td>\n",
       "      <td>Mq</td>\n",
       "      <td>c</td>\n",
       "      <td>1ce5cf721</td>\n",
       "      <td>T</td>\n",
       "      <td>H</td>\n",
       "      <td>11.0</td>\n",
       "      <td>0.5</td>\n",
       "      <td>0304a1b60</td>\n",
       "      <td>NaN</td>\n",
       "      <td>5813026e2</td>\n",
       "      <td>1.0</td>\n",
       "      <td>0.0</td>\n",
       "      <td>F</td>\n",
       "      <td>S</td>\n",
       "      <td>104.0</td>\n",
       "      <td>0304a1b60</td>\n",
       "      <td>NaN</td>\n",
       "      <td>NaN</td>\n",
       "    </tr>\n",
       "    <tr>\n",
       "      <th>49937</th>\n",
       "      <td>C</td>\n",
       "      <td>AU</td>\n",
       "      <td>af3d08942</td>\n",
       "      <td>a71f16f4d</td>\n",
       "      <td>7.2428</td>\n",
       "      <td>A</td>\n",
       "      <td>0.0</td>\n",
       "      <td>R</td>\n",
       "      <td>6.0</td>\n",
       "      <td>pE</td>\n",
       "      <td>10.0</td>\n",
       "      <td>pE</td>\n",
       "      <td>c</td>\n",
       "      <td>e9fde8fa8</td>\n",
       "      <td>T</td>\n",
       "      <td>C</td>\n",
       "      <td>6.0</td>\n",
       "      <td>0.6</td>\n",
       "      <td>4b13d99ca</td>\n",
       "      <td>6.0</td>\n",
       "      <td>2ab6a2db6</td>\n",
       "      <td>1.0</td>\n",
       "      <td>1.0</td>\n",
       "      <td>A</td>\n",
       "      <td>N</td>\n",
       "      <td>82.0</td>\n",
       "      <td>4b13d99ca</td>\n",
       "      <td>a</td>\n",
       "      <td>0.0</td>\n",
       "    </tr>\n",
       "    <tr>\n",
       "      <th>49986</th>\n",
       "      <td>R</td>\n",
       "      <td>JP</td>\n",
       "      <td>4ad99e3aa</td>\n",
       "      <td>3cb8943d9</td>\n",
       "      <td>7.2081</td>\n",
       "      <td>A</td>\n",
       "      <td>0.0</td>\n",
       "      <td>R</td>\n",
       "      <td>5.0</td>\n",
       "      <td>Mg</td>\n",
       "      <td>10.0</td>\n",
       "      <td>Mg</td>\n",
       "      <td>a</td>\n",
       "      <td>060a21580</td>\n",
       "      <td>T</td>\n",
       "      <td>R</td>\n",
       "      <td>6.0</td>\n",
       "      <td>0.6</td>\n",
       "      <td>99cb99a50</td>\n",
       "      <td>5.0</td>\n",
       "      <td>388794500</td>\n",
       "      <td>3.0</td>\n",
       "      <td>1.0</td>\n",
       "      <td>F</td>\n",
       "      <td>N</td>\n",
       "      <td>99.0</td>\n",
       "      <td>99cb99a50</td>\n",
       "      <td>o</td>\n",
       "      <td>0.0</td>\n",
       "    </tr>\n",
       "    <tr>\n",
       "      <th>49996</th>\n",
       "      <td>K</td>\n",
       "      <td>JP</td>\n",
       "      <td>b568b6cd8</td>\n",
       "      <td>7353b6574</td>\n",
       "      <td>6.7799</td>\n",
       "      <td>A</td>\n",
       "      <td>0.0</td>\n",
       "      <td>R</td>\n",
       "      <td>6.0</td>\n",
       "      <td>Rz</td>\n",
       "      <td>10.0</td>\n",
       "      <td>Rz</td>\n",
       "      <td>d</td>\n",
       "      <td>704871e3b</td>\n",
       "      <td>T</td>\n",
       "      <td>K</td>\n",
       "      <td>6.0</td>\n",
       "      <td>0.5</td>\n",
       "      <td>7e1c4cff1</td>\n",
       "      <td>6.0</td>\n",
       "      <td>671bf95ca</td>\n",
       "      <td>3.0</td>\n",
       "      <td>1.0</td>\n",
       "      <td>F</td>\n",
       "      <td>S</td>\n",
       "      <td>104.0</td>\n",
       "      <td>7e1c4cff1</td>\n",
       "      <td>n</td>\n",
       "      <td>1.0</td>\n",
       "    </tr>\n",
       "    <tr>\n",
       "      <th>49998</th>\n",
       "      <td>A</td>\n",
       "      <td>CN</td>\n",
       "      <td>939c262c3</td>\n",
       "      <td>180350489</td>\n",
       "      <td>7.2064</td>\n",
       "      <td>A</td>\n",
       "      <td>0.0</td>\n",
       "      <td>R</td>\n",
       "      <td>6.0</td>\n",
       "      <td>th</td>\n",
       "      <td>10.0</td>\n",
       "      <td>th</td>\n",
       "      <td>a</td>\n",
       "      <td>b279e09c3</td>\n",
       "      <td>T</td>\n",
       "      <td>A</td>\n",
       "      <td>5.0</td>\n",
       "      <td>0.6</td>\n",
       "      <td>e5b00a0e0</td>\n",
       "      <td>5.0</td>\n",
       "      <td>45d05d91a</td>\n",
       "      <td>1.0</td>\n",
       "      <td>1.0</td>\n",
       "      <td>A</td>\n",
       "      <td>N</td>\n",
       "      <td>48.0</td>\n",
       "      <td>e5b00a0e0</td>\n",
       "      <td>k</td>\n",
       "      <td>0.0</td>\n",
       "    </tr>\n",
       "  </tbody>\n",
       "</table>\n",
       "<p>4183 rows × 29 columns</p>\n",
       "</div>"
      ],
      "text/plain": [
       "      f0   f1         f2         f3      f4 f5   f6 f7   f8  f9   f10 f11 f12  \\\n",
       "1      N  NaN  232792002  3aad93cab  6.8098  A  1.0  G  6.0  DT  10.0  DT   f   \n",
       "9      X   JP  8a3703ad4  7662ca2a1  6.9468  B  0.0  R  NaN  Nh  10.0  Nh   a   \n",
       "14     X   CN  9e2a50c5e  e38bd1b9c  7.1511  B  0.0  R  1.0  Sz  10.0  Sz   d   \n",
       "16     F   JP  93a92d728        NaN  6.8428  A  0.0  R  5.0  rl  10.0  rl   f   \n",
       "17     N   AU  5c8fa9c24  1afcc7a12  7.2495  B  2.0  B  6.0  rg  10.0  rg   f   \n",
       "...   ..  ...        ...        ...     ... ..  ... ..  ...  ..   ...  ..  ..   \n",
       "49936  H   JP  9fa481341  6ec8ac294  6.9465  A  0.0  R  5.0  Mq  10.0  Mq   c   \n",
       "49937  C   AU  af3d08942  a71f16f4d  7.2428  A  0.0  R  6.0  pE  10.0  pE   c   \n",
       "49986  R   JP  4ad99e3aa  3cb8943d9  7.2081  A  0.0  R  5.0  Mg  10.0  Mg   a   \n",
       "49996  K   JP  b568b6cd8  7353b6574  6.7799  A  0.0  R  6.0  Rz  10.0  Rz   d   \n",
       "49998  A   CN  939c262c3  180350489  7.2064  A  0.0  R  6.0  th  10.0  th   a   \n",
       "\n",
       "             f13 f14 f15   f16  f17        f18  f19        f20  f21  f22 f23  \\\n",
       "1      5859a8a06   T   N  12.0  0.5  e06abf51f  1.0  71fb03996  3.0  1.0   F   \n",
       "9      f41dce3cc   T   X   1.0  0.6  cf84cbe77  6.0  8258d9700  2.0  0.0   F   \n",
       "14     9c63b4d79   T   X  12.0  0.4  088aace2d  7.0        NaN  1.0  1.0   F   \n",
       "16     fbbafaadc   T   F   5.0  0.1  833d88c6c  1.0  150a8cb16  1.0  1.0   E   \n",
       "17     484c96b82   T   N   1.0  0.2  f14f5e4a5  7.0  61cd16ba8  1.0  0.0   F   \n",
       "...          ...  ..  ..   ...  ...        ...  ...        ...  ...  ...  ..   \n",
       "49936  1ce5cf721   T   H  11.0  0.5  0304a1b60  NaN  5813026e2  1.0  0.0   F   \n",
       "49937  e9fde8fa8   T   C   6.0  0.6  4b13d99ca  6.0  2ab6a2db6  1.0  1.0   A   \n",
       "49986  060a21580   T   R   6.0  0.6  99cb99a50  5.0  388794500  3.0  1.0   F   \n",
       "49996  704871e3b   T   K   6.0  0.5  7e1c4cff1  6.0  671bf95ca  3.0  1.0   F   \n",
       "49998  b279e09c3   T   A   5.0  0.6  e5b00a0e0  5.0  45d05d91a  1.0  1.0   A   \n",
       "\n",
       "      f24    f25        f26  f27  f28  \n",
       "1       N   10.0  e06abf51f    k  1.0  \n",
       "9       N   52.0  cf84cbe77    n  0.0  \n",
       "14      N   84.0  088aace2d    e  0.0  \n",
       "16      N   34.0  833d88c6c    i  1.0  \n",
       "17      N   70.0  f14f5e4a5    h  1.0  \n",
       "...    ..    ...        ...  ...  ...  \n",
       "49936   S  104.0  0304a1b60  NaN  NaN  \n",
       "49937   N   82.0  4b13d99ca    a  0.0  \n",
       "49986   N   99.0  99cb99a50    o  0.0  \n",
       "49996   S  104.0  7e1c4cff1    n  1.0  \n",
       "49998   N   48.0  e5b00a0e0    k  0.0  \n",
       "\n",
       "[4183 rows x 29 columns]"
      ]
     },
     "execution_count": 22,
     "metadata": {},
     "output_type": "execute_result"
    }
   ],
   "source": [
    "X[X['f10'] == 10]"
   ]
  },
  {
   "cell_type": "markdown",
   "id": "55bdb46c",
   "metadata": {},
   "source": [
    "We can see that there are alot of columns with these values, so we'll just leave them as is. "
   ]
  },
  {
   "cell_type": "code",
   "execution_count": 34,
   "id": "7a407bb6",
   "metadata": {},
   "outputs": [
    {
     "data": {
      "text/html": [
       "<div>\n",
       "<style scoped>\n",
       "    .dataframe tbody tr th:only-of-type {\n",
       "        vertical-align: middle;\n",
       "    }\n",
       "\n",
       "    .dataframe tbody tr th {\n",
       "        vertical-align: top;\n",
       "    }\n",
       "\n",
       "    .dataframe thead th {\n",
       "        text-align: right;\n",
       "    }\n",
       "</style>\n",
       "<table border=\"1\" class=\"dataframe\">\n",
       "  <thead>\n",
       "    <tr style=\"text-align: right;\">\n",
       "      <th></th>\n",
       "      <th>f0</th>\n",
       "      <th>f1</th>\n",
       "      <th>f2</th>\n",
       "      <th>f3</th>\n",
       "      <th>f4</th>\n",
       "      <th>f5</th>\n",
       "      <th>f6</th>\n",
       "      <th>f7</th>\n",
       "      <th>f8</th>\n",
       "      <th>f9</th>\n",
       "      <th>f10</th>\n",
       "      <th>f11</th>\n",
       "      <th>f12</th>\n",
       "      <th>f13</th>\n",
       "      <th>f14</th>\n",
       "      <th>f15</th>\n",
       "      <th>f16</th>\n",
       "      <th>f17</th>\n",
       "      <th>f18</th>\n",
       "      <th>f19</th>\n",
       "      <th>f20</th>\n",
       "      <th>f21</th>\n",
       "      <th>f22</th>\n",
       "      <th>f23</th>\n",
       "      <th>f24</th>\n",
       "      <th>f25</th>\n",
       "      <th>f26</th>\n",
       "      <th>f27</th>\n",
       "      <th>f28</th>\n",
       "    </tr>\n",
       "  </thead>\n",
       "  <tbody>\n",
       "    <tr>\n",
       "      <th>0</th>\n",
       "      <td>I</td>\n",
       "      <td>AU</td>\n",
       "      <td>134e98eb8</td>\n",
       "      <td>be42001f3</td>\n",
       "      <td>6.8928</td>\n",
       "      <td>B</td>\n",
       "      <td>0.0</td>\n",
       "      <td>R</td>\n",
       "      <td>4.0</td>\n",
       "      <td>PS</td>\n",
       "      <td>1.0</td>\n",
       "      <td>PS</td>\n",
       "      <td>a</td>\n",
       "      <td>0f94eb834</td>\n",
       "      <td>T</td>\n",
       "      <td>I</td>\n",
       "      <td>9.0</td>\n",
       "      <td>0.4</td>\n",
       "      <td>1d2ee04de</td>\n",
       "      <td>3.0</td>\n",
       "      <td>be0264098</td>\n",
       "      <td>3.0</td>\n",
       "      <td>0.0</td>\n",
       "      <td>B</td>\n",
       "      <td>N</td>\n",
       "      <td>51.0</td>\n",
       "      <td>1d2ee04de</td>\n",
       "      <td>m</td>\n",
       "      <td>1.0</td>\n",
       "    </tr>\n",
       "    <tr>\n",
       "      <th>2</th>\n",
       "      <td>P</td>\n",
       "      <td>JP</td>\n",
       "      <td>64e2a3589</td>\n",
       "      <td>90116a97d</td>\n",
       "      <td>6.7761</td>\n",
       "      <td>A</td>\n",
       "      <td>0.0</td>\n",
       "      <td>R</td>\n",
       "      <td>5.0</td>\n",
       "      <td>vq</td>\n",
       "      <td>0.0</td>\n",
       "      <td>vq</td>\n",
       "      <td>c</td>\n",
       "      <td>7d7c02c57</td>\n",
       "      <td>T</td>\n",
       "      <td>P</td>\n",
       "      <td>5.0</td>\n",
       "      <td>0.2</td>\n",
       "      <td>5d1ac7760</td>\n",
       "      <td>2.0</td>\n",
       "      <td>bf987f83f</td>\n",
       "      <td>3.0</td>\n",
       "      <td>0.0</td>\n",
       "      <td>C</td>\n",
       "      <td>S</td>\n",
       "      <td>16.0</td>\n",
       "      <td>5d1ac7760</td>\n",
       "      <td>c</td>\n",
       "      <td>0.0</td>\n",
       "    </tr>\n",
       "    <tr>\n",
       "      <th>3</th>\n",
       "      <td>K</td>\n",
       "      <td>IT</td>\n",
       "      <td>960cdb2ef</td>\n",
       "      <td>dc4ee566b</td>\n",
       "      <td>6.9302</td>\n",
       "      <td>A</td>\n",
       "      <td>0.0</td>\n",
       "      <td>R</td>\n",
       "      <td>5.0</td>\n",
       "      <td>Bx</td>\n",
       "      <td>1.0</td>\n",
       "      <td>Bx</td>\n",
       "      <td>a</td>\n",
       "      <td>165e81a00</td>\n",
       "      <td>F</td>\n",
       "      <td>K</td>\n",
       "      <td>2.0</td>\n",
       "      <td>0.4</td>\n",
       "      <td>b0ab8b134</td>\n",
       "      <td>3.0</td>\n",
       "      <td>d40fcead7</td>\n",
       "      <td>2.0</td>\n",
       "      <td>0.0</td>\n",
       "      <td>D</td>\n",
       "      <td>N</td>\n",
       "      <td>63.0</td>\n",
       "      <td>b0ab8b134</td>\n",
       "      <td>i</td>\n",
       "      <td>1.0</td>\n",
       "    </tr>\n",
       "    <tr>\n",
       "      <th>5</th>\n",
       "      <td>A</td>\n",
       "      <td>AU</td>\n",
       "      <td>353d36b43</td>\n",
       "      <td>b770c0db2</td>\n",
       "      <td>6.9811</td>\n",
       "      <td>A</td>\n",
       "      <td>0.0</td>\n",
       "      <td>R</td>\n",
       "      <td>5.0</td>\n",
       "      <td>mX</td>\n",
       "      <td>0.0</td>\n",
       "      <td>mX</td>\n",
       "      <td>d</td>\n",
       "      <td>5a7ade619</td>\n",
       "      <td>T</td>\n",
       "      <td>A</td>\n",
       "      <td>5.0</td>\n",
       "      <td>0.1</td>\n",
       "      <td>018382adf</td>\n",
       "      <td>5.0</td>\n",
       "      <td>1846ac847</td>\n",
       "      <td>3.0</td>\n",
       "      <td>1.0</td>\n",
       "      <td>E</td>\n",
       "      <td>N</td>\n",
       "      <td>103.0</td>\n",
       "      <td>018382adf</td>\n",
       "      <td>b</td>\n",
       "      <td>0.0</td>\n",
       "    </tr>\n",
       "    <tr>\n",
       "      <th>7</th>\n",
       "      <td>U</td>\n",
       "      <td>DE</td>\n",
       "      <td>3c65b4ace</td>\n",
       "      <td>4e7ceb320</td>\n",
       "      <td>6.7982</td>\n",
       "      <td>B</td>\n",
       "      <td>0.0</td>\n",
       "      <td>R</td>\n",
       "      <td>6.0</td>\n",
       "      <td>oJ</td>\n",
       "      <td>1.0</td>\n",
       "      <td>oJ</td>\n",
       "      <td>d</td>\n",
       "      <td>74a092964</td>\n",
       "      <td>T</td>\n",
       "      <td>U</td>\n",
       "      <td>9.0</td>\n",
       "      <td>0.6</td>\n",
       "      <td>58a27d7e7</td>\n",
       "      <td>5.0</td>\n",
       "      <td>ad98d7f1c</td>\n",
       "      <td>1.0</td>\n",
       "      <td>1.0</td>\n",
       "      <td>B</td>\n",
       "      <td>N</td>\n",
       "      <td>26.0</td>\n",
       "      <td>58a27d7e7</td>\n",
       "      <td>k</td>\n",
       "      <td>1.0</td>\n",
       "    </tr>\n",
       "    <tr>\n",
       "      <th>...</th>\n",
       "      <td>...</td>\n",
       "      <td>...</td>\n",
       "      <td>...</td>\n",
       "      <td>...</td>\n",
       "      <td>...</td>\n",
       "      <td>...</td>\n",
       "      <td>...</td>\n",
       "      <td>...</td>\n",
       "      <td>...</td>\n",
       "      <td>...</td>\n",
       "      <td>...</td>\n",
       "      <td>...</td>\n",
       "      <td>...</td>\n",
       "      <td>...</td>\n",
       "      <td>...</td>\n",
       "      <td>...</td>\n",
       "      <td>...</td>\n",
       "      <td>...</td>\n",
       "      <td>...</td>\n",
       "      <td>...</td>\n",
       "      <td>...</td>\n",
       "      <td>...</td>\n",
       "      <td>...</td>\n",
       "      <td>...</td>\n",
       "      <td>...</td>\n",
       "      <td>...</td>\n",
       "      <td>...</td>\n",
       "      <td>...</td>\n",
       "      <td>...</td>\n",
       "    </tr>\n",
       "    <tr>\n",
       "      <th>49995</th>\n",
       "      <td>N</td>\n",
       "      <td>DE</td>\n",
       "      <td>6ad63ead6</td>\n",
       "      <td>b6e2836eb</td>\n",
       "      <td>6.8800</td>\n",
       "      <td>A</td>\n",
       "      <td>0.0</td>\n",
       "      <td>R</td>\n",
       "      <td>4.0</td>\n",
       "      <td>Fl</td>\n",
       "      <td>1.0</td>\n",
       "      <td>Fl</td>\n",
       "      <td>NaN</td>\n",
       "      <td>a1d71618d</td>\n",
       "      <td>T</td>\n",
       "      <td>N</td>\n",
       "      <td>1.0</td>\n",
       "      <td>0.3</td>\n",
       "      <td>0da2378c8</td>\n",
       "      <td>5.0</td>\n",
       "      <td>d4ec6187c</td>\n",
       "      <td>3.0</td>\n",
       "      <td>0.0</td>\n",
       "      <td>F</td>\n",
       "      <td>N</td>\n",
       "      <td>NaN</td>\n",
       "      <td>0da2378c8</td>\n",
       "      <td>c</td>\n",
       "      <td>1.0</td>\n",
       "    </tr>\n",
       "    <tr>\n",
       "      <th>49996</th>\n",
       "      <td>K</td>\n",
       "      <td>JP</td>\n",
       "      <td>b568b6cd8</td>\n",
       "      <td>7353b6574</td>\n",
       "      <td>6.7799</td>\n",
       "      <td>A</td>\n",
       "      <td>0.0</td>\n",
       "      <td>R</td>\n",
       "      <td>6.0</td>\n",
       "      <td>Rz</td>\n",
       "      <td>10.0</td>\n",
       "      <td>Rz</td>\n",
       "      <td>d</td>\n",
       "      <td>704871e3b</td>\n",
       "      <td>T</td>\n",
       "      <td>K</td>\n",
       "      <td>6.0</td>\n",
       "      <td>0.5</td>\n",
       "      <td>7e1c4cff1</td>\n",
       "      <td>6.0</td>\n",
       "      <td>671bf95ca</td>\n",
       "      <td>3.0</td>\n",
       "      <td>1.0</td>\n",
       "      <td>F</td>\n",
       "      <td>S</td>\n",
       "      <td>104.0</td>\n",
       "      <td>7e1c4cff1</td>\n",
       "      <td>n</td>\n",
       "      <td>1.0</td>\n",
       "    </tr>\n",
       "    <tr>\n",
       "      <th>49997</th>\n",
       "      <td>R</td>\n",
       "      <td>AU</td>\n",
       "      <td>336f3d094</td>\n",
       "      <td>5b32753e5</td>\n",
       "      <td>6.8271</td>\n",
       "      <td>A</td>\n",
       "      <td>0.0</td>\n",
       "      <td>R</td>\n",
       "      <td>6.0</td>\n",
       "      <td>DR</td>\n",
       "      <td>0.0</td>\n",
       "      <td>DR</td>\n",
       "      <td>f</td>\n",
       "      <td>25c087d05</td>\n",
       "      <td>T</td>\n",
       "      <td>R</td>\n",
       "      <td>2.0</td>\n",
       "      <td>0.1</td>\n",
       "      <td>41afb892d</td>\n",
       "      <td>2.0</td>\n",
       "      <td>32039aaad</td>\n",
       "      <td>1.0</td>\n",
       "      <td>NaN</td>\n",
       "      <td>D</td>\n",
       "      <td>N</td>\n",
       "      <td>104.0</td>\n",
       "      <td>41afb892d</td>\n",
       "      <td>e</td>\n",
       "      <td>1.0</td>\n",
       "    </tr>\n",
       "    <tr>\n",
       "      <th>49998</th>\n",
       "      <td>A</td>\n",
       "      <td>CN</td>\n",
       "      <td>939c262c3</td>\n",
       "      <td>180350489</td>\n",
       "      <td>7.2064</td>\n",
       "      <td>A</td>\n",
       "      <td>0.0</td>\n",
       "      <td>R</td>\n",
       "      <td>6.0</td>\n",
       "      <td>th</td>\n",
       "      <td>10.0</td>\n",
       "      <td>th</td>\n",
       "      <td>a</td>\n",
       "      <td>b279e09c3</td>\n",
       "      <td>T</td>\n",
       "      <td>A</td>\n",
       "      <td>5.0</td>\n",
       "      <td>0.6</td>\n",
       "      <td>e5b00a0e0</td>\n",
       "      <td>5.0</td>\n",
       "      <td>45d05d91a</td>\n",
       "      <td>1.0</td>\n",
       "      <td>1.0</td>\n",
       "      <td>A</td>\n",
       "      <td>N</td>\n",
       "      <td>48.0</td>\n",
       "      <td>e5b00a0e0</td>\n",
       "      <td>k</td>\n",
       "      <td>0.0</td>\n",
       "    </tr>\n",
       "    <tr>\n",
       "      <th>49999</th>\n",
       "      <td>U</td>\n",
       "      <td>IT</td>\n",
       "      <td>c8dbebb84</td>\n",
       "      <td>b6371b9f6</td>\n",
       "      <td>7.1916</td>\n",
       "      <td>A</td>\n",
       "      <td>0.0</td>\n",
       "      <td>R</td>\n",
       "      <td>6.0</td>\n",
       "      <td>cg</td>\n",
       "      <td>0.0</td>\n",
       "      <td>cg</td>\n",
       "      <td>f</td>\n",
       "      <td>a625ea144</td>\n",
       "      <td>T</td>\n",
       "      <td>U</td>\n",
       "      <td>12.0</td>\n",
       "      <td>0.4</td>\n",
       "      <td>0eb5e9781</td>\n",
       "      <td>3.0</td>\n",
       "      <td>2e10e33df</td>\n",
       "      <td>1.0</td>\n",
       "      <td>0.0</td>\n",
       "      <td>D</td>\n",
       "      <td>N</td>\n",
       "      <td>102.0</td>\n",
       "      <td>0eb5e9781</td>\n",
       "      <td>n</td>\n",
       "      <td>1.0</td>\n",
       "    </tr>\n",
       "  </tbody>\n",
       "</table>\n",
       "<p>26874 rows × 29 columns</p>\n",
       "</div>"
      ],
      "text/plain": [
       "      f0  f1         f2         f3      f4 f5   f6 f7   f8  f9   f10 f11  f12  \\\n",
       "0      I  AU  134e98eb8  be42001f3  6.8928  B  0.0  R  4.0  PS   1.0  PS    a   \n",
       "2      P  JP  64e2a3589  90116a97d  6.7761  A  0.0  R  5.0  vq   0.0  vq    c   \n",
       "3      K  IT  960cdb2ef  dc4ee566b  6.9302  A  0.0  R  5.0  Bx   1.0  Bx    a   \n",
       "5      A  AU  353d36b43  b770c0db2  6.9811  A  0.0  R  5.0  mX   0.0  mX    d   \n",
       "7      U  DE  3c65b4ace  4e7ceb320  6.7982  B  0.0  R  6.0  oJ   1.0  oJ    d   \n",
       "...   ..  ..        ...        ...     ... ..  ... ..  ...  ..   ...  ..  ...   \n",
       "49995  N  DE  6ad63ead6  b6e2836eb  6.8800  A  0.0  R  4.0  Fl   1.0  Fl  NaN   \n",
       "49996  K  JP  b568b6cd8  7353b6574  6.7799  A  0.0  R  6.0  Rz  10.0  Rz    d   \n",
       "49997  R  AU  336f3d094  5b32753e5  6.8271  A  0.0  R  6.0  DR   0.0  DR    f   \n",
       "49998  A  CN  939c262c3  180350489  7.2064  A  0.0  R  6.0  th  10.0  th    a   \n",
       "49999  U  IT  c8dbebb84  b6371b9f6  7.1916  A  0.0  R  6.0  cg   0.0  cg    f   \n",
       "\n",
       "             f13 f14 f15   f16  f17        f18  f19        f20  f21  f22 f23  \\\n",
       "0      0f94eb834   T   I   9.0  0.4  1d2ee04de  3.0  be0264098  3.0  0.0   B   \n",
       "2      7d7c02c57   T   P   5.0  0.2  5d1ac7760  2.0  bf987f83f  3.0  0.0   C   \n",
       "3      165e81a00   F   K   2.0  0.4  b0ab8b134  3.0  d40fcead7  2.0  0.0   D   \n",
       "5      5a7ade619   T   A   5.0  0.1  018382adf  5.0  1846ac847  3.0  1.0   E   \n",
       "7      74a092964   T   U   9.0  0.6  58a27d7e7  5.0  ad98d7f1c  1.0  1.0   B   \n",
       "...          ...  ..  ..   ...  ...        ...  ...        ...  ...  ...  ..   \n",
       "49995  a1d71618d   T   N   1.0  0.3  0da2378c8  5.0  d4ec6187c  3.0  0.0   F   \n",
       "49996  704871e3b   T   K   6.0  0.5  7e1c4cff1  6.0  671bf95ca  3.0  1.0   F   \n",
       "49997  25c087d05   T   R   2.0  0.1  41afb892d  2.0  32039aaad  1.0  NaN   D   \n",
       "49998  b279e09c3   T   A   5.0  0.6  e5b00a0e0  5.0  45d05d91a  1.0  1.0   A   \n",
       "49999  a625ea144   T   U  12.0  0.4  0eb5e9781  3.0  2e10e33df  1.0  0.0   D   \n",
       "\n",
       "      f24    f25        f26 f27  f28  \n",
       "0       N   51.0  1d2ee04de   m  1.0  \n",
       "2       S   16.0  5d1ac7760   c  0.0  \n",
       "3       N   63.0  b0ab8b134   i  1.0  \n",
       "5       N  103.0  018382adf   b  0.0  \n",
       "7       N   26.0  58a27d7e7   k  1.0  \n",
       "...    ..    ...        ...  ..  ...  \n",
       "49995   N    NaN  0da2378c8   c  1.0  \n",
       "49996   S  104.0  7e1c4cff1   n  1.0  \n",
       "49997   N  104.0  41afb892d   e  1.0  \n",
       "49998   N   48.0  e5b00a0e0   k  0.0  \n",
       "49999   N  102.0  0eb5e9781   n  1.0  \n",
       "\n",
       "[26874 rows x 29 columns]"
      ]
     },
     "execution_count": 34,
     "metadata": {},
     "output_type": "execute_result"
    }
   ],
   "source": [
    "X[X['f6'] == 0]"
   ]
  },
  {
   "cell_type": "code",
   "execution_count": 16,
   "id": "63573416",
   "metadata": {
    "scrolled": true
   },
   "outputs": [
    {
     "data": {
      "image/png": "[encoded data removed]",
      "text/plain": [
       "<Figure size 1296x1296 with 1 Axes>"
      ]
     },
     "metadata": {
      "needs_background": "light"
     },
     "output_type": "display_data"
    }
   ],
   "source": [
    "plt.figure(figsize=(18, 18))\n",
    "pd.DataFrame(X['f25']).boxplot()\n",
    "plt.title(\"Numerical variables\", fontsize=20)\n",
    "plt.show()"
   ]
  },
  {
   "cell_type": "code",
   "execution_count": 52,
   "id": "fb0821de",
   "metadata": {},
   "outputs": [
    {
     "data": {
      "application/vnd.plotly.v1+json": {
       "config": {
        "plotlyServerURL": "https://plot.ly"
       },
       "data": [
        {
         "coloraxis": "coloraxis",
         "hovertemplate": "x: %{x}<br>y: %{y}<br>color: %{z}<extra></extra>",
         "name": "0",
         "type": "heatmap",
         "x": [
          "f4",
          "f6",
          "f8",
          "f10",
          "f16",
          "f17",
          "f19",
          "f21",
          "f22",
          "f25",
          "f28"
         ],
         "xaxis": "x",
         "y": [
          "f4",
          "f6",
          "f8",
          "f10",
          "f16",
          "f17",
          "f19",
          "f21",
          "f22",
          "f25",
          "f28"
         ],
         "yaxis": "y",
         "z": [
          [
           1,
           0.0019062972566159149,
           0.0026518504171490916,
           0.00545377950469823,
           0.0053015651438353415,
           -0.0005997033240728352,
           0.003119404298954565,
           -0.003332943597504121,
           0.006231517145723908,
           -0.0020168167380128555,
           -0.00288105426407377
          ],
          [
           0.0019062972566159149,
           1,
           0.004431071393599722,
           0.001395403651172122,
           0.004157127915653524,
           0.0056021698563238735,
           0.004567196204455991,
           -0.003600428382751038,
           -0.0031251722907534416,
           0.003708066880525467,
           0.005432062318370788
          ],
          [
           0.0026518504171490916,
           0.004431071393599722,
           1,
           -5.8941494299578994e-05,
           0.002691941814044965,
           0.002279267116140663,
           -0.00899977675187366,
           -0.0022451010773393383,
           -0.004614468271181237,
           0.0017786394260263796,
           0.004865126692987992
          ],
          [
           0.00545377950469823,
           0.001395403651172122,
           -5.8941494299578994e-05,
           1,
           0.0034214742820101365,
           0.0017536210767032162,
           0.0022465984081847497,
           -0.003610608932919176,
           0.00675942365575507,
           -0.0010654326156644414,
           0.0018188425755805866
          ],
          [
           0.0053015651438353415,
           0.004157127915653524,
           0.002691941814044965,
           0.0034214742820101365,
           1,
           0.0008867889912328833,
           -0.0020434797687692873,
           -0.009312832709663021,
           -0.005857529907289489,
           -0.0020085954983717694,
           -0.005000190307972663
          ],
          [
           -0.0005997033240728352,
           0.0056021698563238735,
           0.002279267116140663,
           0.0017536210767032162,
           0.0008867889912328833,
           1,
           0.0015630682839955171,
           -0.0034738343573134343,
           -0.007599766154147292,
           0.0008018160314232773,
           -0.00017784139308501764
          ],
          [
           0.003119404298954565,
           0.004567196204455991,
           -0.00899977675187366,
           0.0022465984081847497,
           -0.0020434797687692873,
           0.0015630682839955171,
           1,
           0.004200484753272879,
           -0.0030213504882054738,
           -0.007140641320087431,
           0.00041290647136592995
          ],
          [
           -0.003332943597504121,
           -0.003600428382751038,
           -0.0022451010773393383,
           -0.003610608932919176,
           -0.009312832709663021,
           -0.0034738343573134343,
           0.004200484753272879,
           1,
           0.003685644037946502,
           0.002567474108842434,
           -0.0009399110258429827
          ],
          [
           0.006231517145723908,
           -0.0031251722907534416,
           -0.004614468271181237,
           0.00675942365575507,
           -0.005857529907289489,
           -0.007599766154147292,
           -0.0030213504882054738,
           0.003685644037946502,
           1,
           0.003464074303386028,
           0.0017601484267246903
          ],
          [
           -0.0020168167380128555,
           0.003708066880525467,
           0.0017786394260263796,
           -0.0010654326156644414,
           -0.0020085954983717694,
           0.0008018160314232773,
           -0.007140641320087431,
           0.002567474108842434,
           0.003464074303386028,
           1,
           -0.00024156566679917315
          ],
          [
           -0.00288105426407377,
           0.005432062318370788,
           0.004865126692987992,
           0.0018188425755805866,
           -0.005000190307972663,
           -0.00017784139308501764,
           0.00041290647136592995,
           -0.0009399110258429827,
           0.0017601484267246903,
           -0.00024156566679917315,
           1
          ]
         ]
        }
       ],
       "layout": {
        "coloraxis": {
         "colorscale": [
          [
           0,
           "#0d0887"
          ],
          [
           0.1111111111111111,
           "#46039f"
          ],
          [
           0.2222222222222222,
           "#7201a8"
          ],
          [
           0.3333333333333333,
           "#9c179e"
          ],
          [
           0.4444444444444444,
           "#bd3786"
          ],
          [
           0.5555555555555556,
           "#d8576b"
          ],
          [
           0.6666666666666666,
           "#ed7953"
          ],
          [
           0.7777777777777778,
           "#fb9f3a"
          ],
          [
           0.8888888888888888,
           "#fdca26"
          ],
          [
           1,
           "#f0f921"
          ]
         ]
        },
        "margin": {
         "t": 60
        },
        "template": {
         "data": {
          "bar": [
           {
            "error_x": {
             "color": "#2a3f5f"
            },
            "error_y": {
             "color": "#2a3f5f"
            },
            "marker": {
             "line": {
              "color": "#E5ECF6",
              "width": 0.5
             },
             "pattern": {
              "fillmode": "overlay",
              "size": 10,
              "solidity": 0.2
             }
            },
            "type": "bar"
           }
          ],
          "barpolar": [
           {
            "marker": {
             "line": {
              "color": "#E5ECF6",
              "width": 0.5
             },
             "pattern": {
              "fillmode": "overlay",
              "size": 10,
              "solidity": 0.2
             }
            },
            "type": "barpolar"
           }
          ],
          "carpet": [
           {
            "aaxis": {
             "endlinecolor": "#2a3f5f",
             "gridcolor": "white",
             "linecolor": "white",
             "minorgridcolor": "white",
             "startlinecolor": "#2a3f5f"
            },
            "baxis": {
             "endlinecolor": "#2a3f5f",
             "gridcolor": "white",
             "linecolor": "white",
             "minorgridcolor": "white",
             "startlinecolor": "#2a3f5f"
            },
            "type": "carpet"
           }
          ],
          "choropleth": [
           {
            "colorbar": {
             "outlinewidth": 0,
             "ticks": ""
            },
            "type": "choropleth"
           }
          ],
          "contour": [
           {
            "colorbar": {
             "outlinewidth": 0,
             "ticks": ""
            },
            "colorscale": [
             [
              0,
              "#0d0887"
             ],
             [
              0.1111111111111111,
              "#46039f"
             ],
             [
              0.2222222222222222,
              "#7201a8"
             ],
             [
              0.3333333333333333,
              "#9c179e"
             ],
             [
              0.4444444444444444,
              "#bd3786"
             ],
             [
              0.5555555555555556,
              "#d8576b"
             ],
             [
              0.6666666666666666,
              "#ed7953"
             ],
             [
              0.7777777777777778,
              "#fb9f3a"
             ],
             [
              0.8888888888888888,
              "#fdca26"
             ],
             [
              1,
              "#f0f921"
             ]
            ],
            "type": "contour"
           }
          ],
          "contourcarpet": [
           {
            "colorbar": {
             "outlinewidth": 0,
             "ticks": ""
            },
            "type": "contourcarpet"
           }
          ],
          "heatmap": [
           {
            "colorbar": {
             "outlinewidth": 0,
             "ticks": ""
            },
            "colorscale": [
             [
              0,
              "#0d0887"
             ],
             [
              0.1111111111111111,
              "#46039f"
             ],
             [
              0.2222222222222222,
              "#7201a8"
             ],
             [
              0.3333333333333333,
              "#9c179e"
             ],
             [
              0.4444444444444444,
              "#bd3786"
             ],
             [
              0.5555555555555556,
              "#d8576b"
             ],
             [
              0.6666666666666666,
              "#ed7953"
             ],
             [
              0.7777777777777778,
              "#fb9f3a"
             ],
             [
              0.8888888888888888,
              "#fdca26"
             ],
             [
              1,
              "#f0f921"
             ]
            ],
            "type": "heatmap"
           }
          ],
          "heatmapgl": [
           {
            "colorbar": {
             "outlinewidth": 0,
             "ticks": ""
            },
            "colorscale": [
             [
              0,
              "#0d0887"
             ],
             [
              0.1111111111111111,
              "#46039f"
             ],
             [
              0.2222222222222222,
              "#7201a8"
             ],
             [
              0.3333333333333333,
              "#9c179e"
             ],
             [
              0.4444444444444444,
              "#bd3786"
             ],
             [
              0.5555555555555556,
              "#d8576b"
             ],
             [
              0.6666666666666666,
              "#ed7953"
             ],
             [
              0.7777777777777778,
              "#fb9f3a"
             ],
             [
              0.8888888888888888,
              "#fdca26"
             ],
             [
              1,
              "#f0f921"
             ]
            ],
            "type": "heatmapgl"
           }
          ],
          "histogram": [
           {
            "marker": {
             "pattern": {
              "fillmode": "overlay",
              "size": 10,
              "solidity": 0.2
             }
            },
            "type": "histogram"
           }
          ],
          "histogram2d": [
           {
            "colorbar": {
             "outlinewidth": 0,
             "ticks": ""
            },
            "colorscale": [
             [
              0,
              "#0d0887"
             ],
             [
              0.1111111111111111,
              "#46039f"
             ],
             [
              0.2222222222222222,
              "#7201a8"
             ],
             [
              0.3333333333333333,
              "#9c179e"
             ],
             [
              0.4444444444444444,
              "#bd3786"
             ],
             [
              0.5555555555555556,
              "#d8576b"
             ],
             [
              0.6666666666666666,
              "#ed7953"
             ],
             [
              0.7777777777777778,
              "#fb9f3a"
             ],
             [
              0.8888888888888888,
              "#fdca26"
             ],
             [
              1,
              "#f0f921"
             ]
            ],
            "type": "histogram2d"
           }
          ],
          "histogram2dcontour": [
           {
            "colorbar": {
             "outlinewidth": 0,
             "ticks": ""
            },
            "colorscale": [
             [
              0,
              "#0d0887"
             ],
             [
              0.1111111111111111,
              "#46039f"
             ],
             [
              0.2222222222222222,
              "#7201a8"
             ],
             [
              0.3333333333333333,
              "#9c179e"
             ],
             [
              0.4444444444444444,
              "#bd3786"
             ],
             [
              0.5555555555555556,
              "#d8576b"
             ],
             [
              0.6666666666666666,
              "#ed7953"
             ],
             [
              0.7777777777777778,
              "#fb9f3a"
             ],
             [
              0.8888888888888888,
              "#fdca26"
             ],
             [
              1,
              "#f0f921"
             ]
            ],
            "type": "histogram2dcontour"
           }
          ],
          "mesh3d": [
           {
            "colorbar": {
             "outlinewidth": 0,
             "ticks": ""
            },
            "type": "mesh3d"
           }
          ],
          "parcoords": [
           {
            "line": {
             "colorbar": {
              "outlinewidth": 0,
              "ticks": ""
             }
            },
            "type": "parcoords"
           }
          ],
          "pie": [
           {
            "automargin": true,
            "type": "pie"
           }
          ],
          "scatter": [
           {
            "marker": {
             "colorbar": {
              "outlinewidth": 0,
              "ticks": ""
             }
            },
            "type": "scatter"
           }
          ],
          "scatter3d": [
           {
            "line": {
             "colorbar": {
              "outlinewidth": 0,
              "ticks": ""
             }
            },
            "marker": {
             "colorbar": {
              "outlinewidth": 0,
              "ticks": ""
             }
            },
            "type": "scatter3d"
           }
          ],
          "scattercarpet": [
           {
            "marker": {
             "colorbar": {
              "outlinewidth": 0,
              "ticks": ""
             }
            },
            "type": "scattercarpet"
           }
          ],
          "scattergeo": [
           {
            "marker": {
             "colorbar": {
              "outlinewidth": 0,
              "ticks": ""
             }
            },
            "type": "scattergeo"
           }
          ],
          "scattergl": [
           {
            "marker": {
             "colorbar": {
              "outlinewidth": 0,
              "ticks": ""
             }
            },
            "type": "scattergl"
           }
          ],
          "scattermapbox": [
           {
            "marker": {
             "colorbar": {
              "outlinewidth": 0,
              "ticks": ""
             }
            },
            "type": "scattermapbox"
           }
          ],
          "scatterpolar": [
           {
            "marker": {
             "colorbar": {
              "outlinewidth": 0,
              "ticks": ""
             }
            },
            "type": "scatterpolar"
           }
          ],
          "scatterpolargl": [
           {
            "marker": {
             "colorbar": {
              "outlinewidth": 0,
              "ticks": ""
             }
            },
            "type": "scatterpolargl"
           }
          ],
          "scatterternary": [
           {
            "marker": {
             "colorbar": {
              "outlinewidth": 0,
              "ticks": ""
             }
            },
            "type": "scatterternary"
           }
          ],
          "surface": [
           {
            "colorbar": {
             "outlinewidth": 0,
             "ticks": ""
            },
            "colorscale": [
             [
              0,
              "#0d0887"
             ],
             [
              0.1111111111111111,
              "#46039f"
             ],
             [
              0.2222222222222222,
              "#7201a8"
             ],
             [
              0.3333333333333333,
              "#9c179e"
             ],
             [
              0.4444444444444444,
              "#bd3786"
             ],
             [
              0.5555555555555556,
              "#d8576b"
             ],
             [
              0.6666666666666666,
              "#ed7953"
             ],
             [
              0.7777777777777778,
              "#fb9f3a"
             ],
             [
              0.8888888888888888,
              "#fdca26"
             ],
             [
              1,
              "#f0f921"
             ]
            ],
            "type": "surface"
           }
          ],
          "table": [
           {
            "cells": {
             "fill": {
              "color": "#EBF0F8"
             },
             "line": {
              "color": "white"
             }
            },
            "header": {
             "fill": {
              "color": "#C8D4E3"
             },
             "line": {
              "color": "white"
             }
            },
            "type": "table"
           }
          ]
         },
         "layout": {
          "annotationdefaults": {
           "arrowcolor": "#2a3f5f",
           "arrowhead": 0,
           "arrowwidth": 1
          },
          "autotypenumbers": "strict",
          "coloraxis": {
           "colorbar": {
            "outlinewidth": 0,
            "ticks": ""
           }
          },
          "colorscale": {
           "diverging": [
            [
             0,
             "#8e0152"
            ],
            [
             0.1,
             "#c51b7d"
            ],
            [
             0.2,
             "#de77ae"
            ],
            [
             0.3,
             "#f1b6da"
            ],
            [
             0.4,
             "#fde0ef"
            ],
            [
             0.5,
             "#f7f7f7"
            ],
            [
             0.6,
             "#e6f5d0"
            ],
            [
             0.7,
             "#b8e186"
            ],
            [
             0.8,
             "#7fbc41"
            ],
            [
             0.9,
             "#4d9221"
            ],
            [
             1,
             "#276419"
            ]
           ],
           "sequential": [
            [
             0,
             "#0d0887"
            ],
            [
             0.1111111111111111,
             "#46039f"
            ],
            [
             0.2222222222222222,
             "#7201a8"
            ],
            [
             0.3333333333333333,
             "#9c179e"
            ],
            [
             0.4444444444444444,
             "#bd3786"
            ],
            [
             0.5555555555555556,
             "#d8576b"
            ],
            [
             0.6666666666666666,
             "#ed7953"
            ],
            [
             0.7777777777777778,
             "#fb9f3a"
            ],
            [
             0.8888888888888888,
             "#fdca26"
            ],
            [
             1,
             "#f0f921"
            ]
           ],
           "sequentialminus": [
            [
             0,
             "#0d0887"
            ],
            [
             0.1111111111111111,
             "#46039f"
            ],
            [
             0.2222222222222222,
             "#7201a8"
            ],
            [
             0.3333333333333333,
             "#9c179e"
            ],
            [
             0.4444444444444444,
             "#bd3786"
            ],
            [
             0.5555555555555556,
             "#d8576b"
            ],
            [
             0.6666666666666666,
             "#ed7953"
            ],
            [
             0.7777777777777778,
             "#fb9f3a"
            ],
            [
             0.8888888888888888,
             "#fdca26"
            ],
            [
             1,
             "#f0f921"
            ]
           ]
          },
          "colorway": [
           "#636efa",
           "#EF553B",
           "#00cc96",
           "#ab63fa",
           "#FFA15A",
           "#19d3f3",
           "#FF6692",
           "#B6E880",
           "#FF97FF",
           "#FECB52"
          ],
          "font": {
           "color": "#2a3f5f"
          },
          "geo": {
           "bgcolor": "white",
           "lakecolor": "white",
           "landcolor": "#E5ECF6",
           "showlakes": true,
           "showland": true,
           "subunitcolor": "white"
          },
          "hoverlabel": {
           "align": "left"
          },
          "hovermode": "closest",
          "mapbox": {
           "style": "light"
          },
          "paper_bgcolor": "white",
          "plot_bgcolor": "#E5ECF6",
          "polar": {
           "angularaxis": {
            "gridcolor": "white",
            "linecolor": "white",
            "ticks": ""
           },
           "bgcolor": "#E5ECF6",
           "radialaxis": {
            "gridcolor": "white",
            "linecolor": "white",
            "ticks": ""
           }
          },
          "scene": {
           "xaxis": {
            "backgroundcolor": "#E5ECF6",
            "gridcolor": "white",
            "gridwidth": 2,
            "linecolor": "white",
            "showbackground": true,
            "ticks": "",
            "zerolinecolor": "white"
           },
           "yaxis": {
            "backgroundcolor": "#E5ECF6",
            "gridcolor": "white",
            "gridwidth": 2,
            "linecolor": "white",
            "showbackground": true,
            "ticks": "",
            "zerolinecolor": "white"
           },
           "zaxis": {
            "backgroundcolor": "#E5ECF6",
            "gridcolor": "white",
            "gridwidth": 2,
            "linecolor": "white",
            "showbackground": true,
            "ticks": "",
            "zerolinecolor": "white"
           }
          },
          "shapedefaults": {
           "line": {
            "color": "#2a3f5f"
           }
          },
          "ternary": {
           "aaxis": {
            "gridcolor": "white",
            "linecolor": "white",
            "ticks": ""
           },
           "baxis": {
            "gridcolor": "white",
            "linecolor": "white",
            "ticks": ""
           },
           "bgcolor": "#E5ECF6",
           "caxis": {
            "gridcolor": "white",
            "linecolor": "white",
            "ticks": ""
           }
          },
          "title": {
           "x": 0.05
          },
          "xaxis": {
           "automargin": true,
           "gridcolor": "white",
           "linecolor": "white",
           "ticks": "",
           "title": {
            "standoff": 15
           },
           "zerolinecolor": "white",
           "zerolinewidth": 2
          },
          "yaxis": {
           "automargin": true,
           "gridcolor": "white",
           "linecolor": "white",
           "ticks": "",
           "title": {
            "standoff": 15
           },
           "zerolinecolor": "white",
           "zerolinewidth": 2
          }
         }
        },
        "xaxis": {
         "anchor": "y",
         "constrain": "domain",
         "domain": [
          0,
          1
         ],
         "scaleanchor": "y"
        },
        "yaxis": {
         "anchor": "x",
         "autorange": "reversed",
         "constrain": "domain",
         "domain": [
          0,
          1
         ]
        }
       }
      },
      "text/html": [
       "<div>                            <div id=\"42f2c16b-47f7-47d7-9634-35c402bd7845\" class=\"plotly-graph-div\" style=\"height:525px; width:100%;\"></div>            <script type=\"text/javascript\">                require([\"plotly\"], function(Plotly) {                    window.PLOTLYENV=window.PLOTLYENV || {};                                    if (document.getElementById(\"42f2c16b-47f7-47d7-9634-35c402bd7845\")) {                    Plotly.newPlot(                        \"42f2c16b-47f7-47d7-9634-35c402bd7845\",                        [{\"coloraxis\":\"coloraxis\",\"hovertemplate\":\"x: %{x}<br>y: %{y}<br>color: %{z}<extra></extra>\",\"name\":\"0\",\"type\":\"heatmap\",\"x\":[\"f4\",\"f6\",\"f8\",\"f10\",\"f16\",\"f17\",\"f19\",\"f21\",\"f22\",\"f25\",\"f28\"],\"xaxis\":\"x\",\"y\":[\"f4\",\"f6\",\"f8\",\"f10\",\"f16\",\"f17\",\"f19\",\"f21\",\"f22\",\"f25\",\"f28\"],\"yaxis\":\"y\",\"z\":[[1.0,0.0019062972566159149,0.0026518504171490916,0.00545377950469823,0.0053015651438353415,-0.0005997033240728352,0.003119404298954565,-0.003332943597504121,0.006231517145723908,-0.0020168167380128555,-0.00288105426407377],[0.0019062972566159149,1.0,0.004431071393599722,0.001395403651172122,0.004157127915653524,0.0056021698563238735,0.004567196204455991,-0.003600428382751038,-0.0031251722907534416,0.003708066880525467,0.005432062318370788],[0.0026518504171490916,0.004431071393599722,1.0,-5.8941494299578994e-05,0.002691941814044965,0.002279267116140663,-0.00899977675187366,-0.0022451010773393383,-0.004614468271181237,0.0017786394260263796,0.004865126692987992],[0.00545377950469823,0.001395403651172122,-5.8941494299578994e-05,1.0,0.0034214742820101365,0.0017536210767032162,0.0022465984081847497,-0.003610608932919176,0.00675942365575507,-0.0010654326156644414,0.0018188425755805866],[0.0053015651438353415,0.004157127915653524,0.002691941814044965,0.0034214742820101365,1.0,0.0008867889912328833,-0.0020434797687692873,-0.009312832709663021,-0.005857529907289489,-0.0020085954983717694,-0.005000190307972663],[-0.0005997033240728352,0.0056021698563238735,0.002279267116140663,0.0017536210767032162,0.0008867889912328833,1.0,0.0015630682839955171,-0.0034738343573134343,-0.007599766154147292,0.0008018160314232773,-0.00017784139308501764],[0.003119404298954565,0.004567196204455991,-0.00899977675187366,0.0022465984081847497,-0.0020434797687692873,0.0015630682839955171,1.0,0.004200484753272879,-0.0030213504882054738,-0.007140641320087431,0.00041290647136592995],[-0.003332943597504121,-0.003600428382751038,-0.0022451010773393383,-0.003610608932919176,-0.009312832709663021,-0.0034738343573134343,0.004200484753272879,1.0,0.003685644037946502,0.002567474108842434,-0.0009399110258429827],[0.006231517145723908,-0.0031251722907534416,-0.004614468271181237,0.00675942365575507,-0.005857529907289489,-0.007599766154147292,-0.0030213504882054738,0.003685644037946502,1.0,0.003464074303386028,0.0017601484267246903],[-0.0020168167380128555,0.003708066880525467,0.0017786394260263796,-0.0010654326156644414,-0.0020085954983717694,0.0008018160314232773,-0.007140641320087431,0.002567474108842434,0.003464074303386028,1.0,-0.00024156566679917315],[-0.00288105426407377,0.005432062318370788,0.004865126692987992,0.0018188425755805866,-0.005000190307972663,-0.00017784139308501764,0.00041290647136592995,-0.0009399110258429827,0.0017601484267246903,-0.00024156566679917315,1.0]]}],                        {\"coloraxis\":{\"colorscale\":[[0.0,\"#0d0887\"],[0.1111111111111111,\"#46039f\"],[0.2222222222222222,\"#7201a8\"],[0.3333333333333333,\"#9c179e\"],[0.4444444444444444,\"#bd3786\"],[0.5555555555555556,\"#d8576b\"],[0.6666666666666666,\"#ed7953\"],[0.7777777777777778,\"#fb9f3a\"],[0.8888888888888888,\"#fdca26\"],[1.0,\"#f0f921\"]]},\"margin\":{\"t\":60},\"template\":{\"data\":{\"bar\":[{\"error_x\":{\"color\":\"#2a3f5f\"},\"error_y\":{\"color\":\"#2a3f5f\"},\"marker\":{\"line\":{\"color\":\"#E5ECF6\",\"width\":0.5},\"pattern\":{\"fillmode\":\"overlay\",\"size\":10,\"solidity\":0.2}},\"type\":\"bar\"}],\"barpolar\":[{\"marker\":{\"line\":{\"color\":\"#E5ECF6\",\"width\":0.5},\"pattern\":{\"fillmode\":\"overlay\",\"size\":10,\"solidity\":0.2}},\"type\":\"barpolar\"}],\"carpet\":[{\"aaxis\":{\"endlinecolor\":\"#2a3f5f\",\"gridcolor\":\"white\",\"linecolor\":\"white\",\"minorgridcolor\":\"white\",\"startlinecolor\":\"#2a3f5f\"},\"baxis\":{\"endlinecolor\":\"#2a3f5f\",\"gridcolor\":\"white\",\"linecolor\":\"white\",\"minorgridcolor\":\"white\",\"startlinecolor\":\"#2a3f5f\"},\"type\":\"carpet\"}],\"choropleth\":[{\"colorbar\":{\"outlinewidth\":0,\"ticks\":\"\"},\"type\":\"choropleth\"}],\"contour\":[{\"colorbar\":{\"outlinewidth\":0,\"ticks\":\"\"},\"colorscale\":[[0.0,\"#0d0887\"],[0.1111111111111111,\"#46039f\"],[0.2222222222222222,\"#7201a8\"],[0.3333333333333333,\"#9c179e\"],[0.4444444444444444,\"#bd3786\"],[0.5555555555555556,\"#d8576b\"],[0.6666666666666666,\"#ed7953\"],[0.7777777777777778,\"#fb9f3a\"],[0.8888888888888888,\"#fdca26\"],[1.0,\"#f0f921\"]],\"type\":\"contour\"}],\"contourcarpet\":[{\"colorbar\":{\"outlinewidth\":0,\"ticks\":\"\"},\"type\":\"contourcarpet\"}],\"heatmap\":[{\"colorbar\":{\"outlinewidth\":0,\"ticks\":\"\"},\"colorscale\":[[0.0,\"#0d0887\"],[0.1111111111111111,\"#46039f\"],[0.2222222222222222,\"#7201a8\"],[0.3333333333333333,\"#9c179e\"],[0.4444444444444444,\"#bd3786\"],[0.5555555555555556,\"#d8576b\"],[0.6666666666666666,\"#ed7953\"],[0.7777777777777778,\"#fb9f3a\"],[0.8888888888888888,\"#fdca26\"],[1.0,\"#f0f921\"]],\"type\":\"heatmap\"}],\"heatmapgl\":[{\"colorbar\":{\"outlinewidth\":0,\"ticks\":\"\"},\"colorscale\":[[0.0,\"#0d0887\"],[0.1111111111111111,\"#46039f\"],[0.2222222222222222,\"#7201a8\"],[0.3333333333333333,\"#9c179e\"],[0.4444444444444444,\"#bd3786\"],[0.5555555555555556,\"#d8576b\"],[0.6666666666666666,\"#ed7953\"],[0.7777777777777778,\"#fb9f3a\"],[0.8888888888888888,\"#fdca26\"],[1.0,\"#f0f921\"]],\"type\":\"heatmapgl\"}],\"histogram\":[{\"marker\":{\"pattern\":{\"fillmode\":\"overlay\",\"size\":10,\"solidity\":0.2}},\"type\":\"histogram\"}],\"histogram2d\":[{\"colorbar\":{\"outlinewidth\":0,\"ticks\":\"\"},\"colorscale\":[[0.0,\"#0d0887\"],[0.1111111111111111,\"#46039f\"],[0.2222222222222222,\"#7201a8\"],[0.3333333333333333,\"#9c179e\"],[0.4444444444444444,\"#bd3786\"],[0.5555555555555556,\"#d8576b\"],[0.6666666666666666,\"#ed7953\"],[0.7777777777777778,\"#fb9f3a\"],[0.8888888888888888,\"#fdca26\"],[1.0,\"#f0f921\"]],\"type\":\"histogram2d\"}],\"histogram2dcontour\":[{\"colorbar\":{\"outlinewidth\":0,\"ticks\":\"\"},\"colorscale\":[[0.0,\"#0d0887\"],[0.1111111111111111,\"#46039f\"],[0.2222222222222222,\"#7201a8\"],[0.3333333333333333,\"#9c179e\"],[0.4444444444444444,\"#bd3786\"],[0.5555555555555556,\"#d8576b\"],[0.6666666666666666,\"#ed7953\"],[0.7777777777777778,\"#fb9f3a\"],[0.8888888888888888,\"#fdca26\"],[1.0,\"#f0f921\"]],\"type\":\"histogram2dcontour\"}],\"mesh3d\":[{\"colorbar\":{\"outlinewidth\":0,\"ticks\":\"\"},\"type\":\"mesh3d\"}],\"parcoords\":[{\"line\":{\"colorbar\":{\"outlinewidth\":0,\"ticks\":\"\"}},\"type\":\"parcoords\"}],\"pie\":[{\"automargin\":true,\"type\":\"pie\"}],\"scatter\":[{\"marker\":{\"colorbar\":{\"outlinewidth\":0,\"ticks\":\"\"}},\"type\":\"scatter\"}],\"scatter3d\":[{\"line\":{\"colorbar\":{\"outlinewidth\":0,\"ticks\":\"\"}},\"marker\":{\"colorbar\":{\"outlinewidth\":0,\"ticks\":\"\"}},\"type\":\"scatter3d\"}],\"scattercarpet\":[{\"marker\":{\"colorbar\":{\"outlinewidth\":0,\"ticks\":\"\"}},\"type\":\"scattercarpet\"}],\"scattergeo\":[{\"marker\":{\"colorbar\":{\"outlinewidth\":0,\"ticks\":\"\"}},\"type\":\"scattergeo\"}],\"scattergl\":[{\"marker\":{\"colorbar\":{\"outlinewidth\":0,\"ticks\":\"\"}},\"type\":\"scattergl\"}],\"scattermapbox\":[{\"marker\":{\"colorbar\":{\"outlinewidth\":0,\"ticks\":\"\"}},\"type\":\"scattermapbox\"}],\"scatterpolar\":[{\"marker\":{\"colorbar\":{\"outlinewidth\":0,\"ticks\":\"\"}},\"type\":\"scatterpolar\"}],\"scatterpolargl\":[{\"marker\":{\"colorbar\":{\"outlinewidth\":0,\"ticks\":\"\"}},\"type\":\"scatterpolargl\"}],\"scatterternary\":[{\"marker\":{\"colorbar\":{\"outlinewidth\":0,\"ticks\":\"\"}},\"type\":\"scatterternary\"}],\"surface\":[{\"colorbar\":{\"outlinewidth\":0,\"ticks\":\"\"},\"colorscale\":[[0.0,\"#0d0887\"],[0.1111111111111111,\"#46039f\"],[0.2222222222222222,\"#7201a8\"],[0.3333333333333333,\"#9c179e\"],[0.4444444444444444,\"#bd3786\"],[0.5555555555555556,\"#d8576b\"],[0.6666666666666666,\"#ed7953\"],[0.7777777777777778,\"#fb9f3a\"],[0.8888888888888888,\"#fdca26\"],[1.0,\"#f0f921\"]],\"type\":\"surface\"}],\"table\":[{\"cells\":{\"fill\":{\"color\":\"#EBF0F8\"},\"line\":{\"color\":\"white\"}},\"header\":{\"fill\":{\"color\":\"#C8D4E3\"},\"line\":{\"color\":\"white\"}},\"type\":\"table\"}]},\"layout\":{\"annotationdefaults\":{\"arrowcolor\":\"#2a3f5f\",\"arrowhead\":0,\"arrowwidth\":1},\"autotypenumbers\":\"strict\",\"coloraxis\":{\"colorbar\":{\"outlinewidth\":0,\"ticks\":\"\"}},\"colorscale\":{\"diverging\":[[0,\"#8e0152\"],[0.1,\"#c51b7d\"],[0.2,\"#de77ae\"],[0.3,\"#f1b6da\"],[0.4,\"#fde0ef\"],[0.5,\"#f7f7f7\"],[0.6,\"#e6f5d0\"],[0.7,\"#b8e186\"],[0.8,\"#7fbc41\"],[0.9,\"#4d9221\"],[1,\"#276419\"]],\"sequential\":[[0.0,\"#0d0887\"],[0.1111111111111111,\"#46039f\"],[0.2222222222222222,\"#7201a8\"],[0.3333333333333333,\"#9c179e\"],[0.4444444444444444,\"#bd3786\"],[0.5555555555555556,\"#d8576b\"],[0.6666666666666666,\"#ed7953\"],[0.7777777777777778,\"#fb9f3a\"],[0.8888888888888888,\"#fdca26\"],[1.0,\"#f0f921\"]],\"sequentialminus\":[[0.0,\"#0d0887\"],[0.1111111111111111,\"#46039f\"],[0.2222222222222222,\"#7201a8\"],[0.3333333333333333,\"#9c179e\"],[0.4444444444444444,\"#bd3786\"],[0.5555555555555556,\"#d8576b\"],[0.6666666666666666,\"#ed7953\"],[0.7777777777777778,\"#fb9f3a\"],[0.8888888888888888,\"#fdca26\"],[1.0,\"#f0f921\"]]},\"colorway\":[\"#636efa\",\"#EF553B\",\"#00cc96\",\"#ab63fa\",\"#FFA15A\",\"#19d3f3\",\"#FF6692\",\"#B6E880\",\"#FF97FF\",\"#FECB52\"],\"font\":{\"color\":\"#2a3f5f\"},\"geo\":{\"bgcolor\":\"white\",\"lakecolor\":\"white\",\"landcolor\":\"#E5ECF6\",\"showlakes\":true,\"showland\":true,\"subunitcolor\":\"white\"},\"hoverlabel\":{\"align\":\"left\"},\"hovermode\":\"closest\",\"mapbox\":{\"style\":\"light\"},\"paper_bgcolor\":\"white\",\"plot_bgcolor\":\"#E5ECF6\",\"polar\":{\"angularaxis\":{\"gridcolor\":\"white\",\"linecolor\":\"white\",\"ticks\":\"\"},\"bgcolor\":\"#E5ECF6\",\"radialaxis\":{\"gridcolor\":\"white\",\"linecolor\":\"white\",\"ticks\":\"\"}},\"scene\":{\"xaxis\":{\"backgroundcolor\":\"#E5ECF6\",\"gridcolor\":\"white\",\"gridwidth\":2,\"linecolor\":\"white\",\"showbackground\":true,\"ticks\":\"\",\"zerolinecolor\":\"white\"},\"yaxis\":{\"backgroundcolor\":\"#E5ECF6\",\"gridcolor\":\"white\",\"gridwidth\":2,\"linecolor\":\"white\",\"showbackground\":true,\"ticks\":\"\",\"zerolinecolor\":\"white\"},\"zaxis\":{\"backgroundcolor\":\"#E5ECF6\",\"gridcolor\":\"white\",\"gridwidth\":2,\"linecolor\":\"white\",\"showbackground\":true,\"ticks\":\"\",\"zerolinecolor\":\"white\"}},\"shapedefaults\":{\"line\":{\"color\":\"#2a3f5f\"}},\"ternary\":{\"aaxis\":{\"gridcolor\":\"white\",\"linecolor\":\"white\",\"ticks\":\"\"},\"baxis\":{\"gridcolor\":\"white\",\"linecolor\":\"white\",\"ticks\":\"\"},\"bgcolor\":\"#E5ECF6\",\"caxis\":{\"gridcolor\":\"white\",\"linecolor\":\"white\",\"ticks\":\"\"}},\"title\":{\"x\":0.05},\"xaxis\":{\"automargin\":true,\"gridcolor\":\"white\",\"linecolor\":\"white\",\"ticks\":\"\",\"title\":{\"standoff\":15},\"zerolinecolor\":\"white\",\"zerolinewidth\":2},\"yaxis\":{\"automargin\":true,\"gridcolor\":\"white\",\"linecolor\":\"white\",\"ticks\":\"\",\"title\":{\"standoff\":15},\"zerolinecolor\":\"white\",\"zerolinewidth\":2}}},\"xaxis\":{\"anchor\":\"y\",\"constrain\":\"domain\",\"domain\":[0.0,1.0],\"scaleanchor\":\"y\"},\"yaxis\":{\"anchor\":\"x\",\"autorange\":\"reversed\",\"constrain\":\"domain\",\"domain\":[0.0,1.0]}},                        {\"responsive\": true}                    ).then(function(){\n",
       "                            \n",
       "var gd = document.getElementById('42f2c16b-47f7-47d7-9634-35c402bd7845');\n",
       "var x = new MutationObserver(function (mutations, observer) {{\n",
       "        var display = window.getComputedStyle(gd).display;\n",
       "        if (!display || display === 'none') {{\n",
       "            console.log([gd, 'removed!']);\n",
       "            Plotly.purge(gd);\n",
       "            observer.disconnect();\n",
       "        }}\n",
       "}});\n",
       "\n",
       "// Listen for the removal of the full notebook cells\n",
       "var notebookContainer = gd.closest('#notebook-container');\n",
       "if (notebookContainer) {{\n",
       "    x.observe(notebookContainer, {childList: true});\n",
       "}}\n",
       "\n",
       "// Listen for the clearing of the current output cell\n",
       "var outputEl = gd.closest('.output');\n",
       "if (outputEl) {{\n",
       "    x.observe(outputEl, {childList: true});\n",
       "}}\n",
       "\n",
       "                        })                };                });            </script>        </div>"
      ]
     },
     "metadata": {},
     "output_type": "display_data"
    }
   ],
   "source": [
    "import plotly.express as px\n",
    "fig = px.imshow(X.corr())\n",
    "fig.show()"
   ]
  },
  {
   "cell_type": "code",
   "execution_count": 55,
   "id": "d4c0874a",
   "metadata": {},
   "outputs": [
    {
     "data": {
      "image/png": "[encoded data removed]",
      "text/plain": [
       "<Figure size 1584x1080 with 9 Axes>"
      ]
     },
     "metadata": {
      "needs_background": "light"
     },
     "output_type": "display_data"
    }
   ],
   "source": [
    "def plot_dist(col, ax):\n",
    "    X[col][X[col].notnull()].value_counts().plot(kind='bar', facecolor='y', ax=ax)\n",
    "    ax.set_xlabel('{}'.format(col), fontsize=20)\n",
    "    ax.set_title(\"{} on X\".format(col), fontsize= 18)\n",
    "    return ax\n",
    "\n",
    "f, ax = plt.subplots(3,3, figsize = (22,15))\n",
    "f.tight_layout(h_pad=9, w_pad=2, rect=[0, 0.03, 1, 0.93])\n",
    "cols = list(X.columns)\n",
    "k = 0\n",
    "for i in range(3):\n",
    "    for j in range(3):\n",
    "        plot_dist(cols[k], ax[i][j])\n",
    "        k += 1\n",
    "__ = plt.suptitle(\"Initial Distributions of features\", fontsize= 25)"
   ]
  }
 ],
 "metadata": {
  "kernelspec": {
   "display_name": "Python 3 (ipykernel)",
   "language": "python",
   "name": "python3"
  },
  "language_info": {
   "codemirror_mode": {
    "name": "ipython",
    "version": 3
   },
   "file_extension": ".py",
   "mimetype": "text/x-python",
   "name": "python",
   "nbconvert_exporter": "python",
   "pygments_lexer": "ipython3",
   "version": "3.9.6"
  }
 },
 "nbformat": 4,
 "nbformat_minor": 5
}
